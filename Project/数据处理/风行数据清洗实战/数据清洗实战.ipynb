{
 "cells": [
  {
   "cell_type": "code",
   "execution_count": 30,
   "id": "ce6fe399",
   "metadata": {},
   "outputs": [],
   "source": [
    "import pandas as pd\n",
    "import numpy as np\n",
    "import matplotlib.pyplot as plt\n",
    "%matplotlib inline"
   ]
  },
  {
   "cell_type": "code",
   "execution_count": 8,
   "id": "32d953f2",
   "metadata": {},
   "outputs": [],
   "source": [
    "df = pd.read_csv(r'D:\\360Downloads\\qunar_freetrip.csv',index_col=0)"
   ]
  },
  {
   "cell_type": "code",
   "execution_count": 29,
   "id": "a9cb18c6",
   "metadata": {
    "scrolled": true
   },
   "outputs": [
    {
     "data": {
      "text/html": [
       "<div>\n",
       "<style scoped>\n",
       "    .dataframe tbody tr th:only-of-type {\n",
       "        vertical-align: middle;\n",
       "    }\n",
       "\n",
       "    .dataframe tbody tr th {\n",
       "        vertical-align: top;\n",
       "    }\n",
       "\n",
       "    .dataframe thead th {\n",
       "        text-align: right;\n",
       "    }\n",
       "</style>\n",
       "<table border=\"1\" class=\"dataframe\">\n",
       "  <thead>\n",
       "    <tr style=\"text-align: right;\">\n",
       "      <th></th>\n",
       "      <th>出发地</th>\n",
       "      <th>目的地</th>\n",
       "      <th>价格</th>\n",
       "      <th>节省</th>\n",
       "      <th>路线名</th>\n",
       "      <th>酒店</th>\n",
       "      <th>房间</th>\n",
       "      <th>去程航司</th>\n",
       "      <th>去程方式</th>\n",
       "      <th>去程时间</th>\n",
       "      <th>回程航司</th>\n",
       "      <th>回程方式</th>\n",
       "      <th>回程时间</th>\n",
       "    </tr>\n",
       "  </thead>\n",
       "  <tbody>\n",
       "    <tr>\n",
       "      <th>0</th>\n",
       "      <td>哈尔滨</td>\n",
       "      <td>北海</td>\n",
       "      <td>2208.0</td>\n",
       "      <td>650.0</td>\n",
       "      <td>哈尔滨-北海3天2晚 | 入住北海祥丰嘉年华大酒店 + 春秋航空往返机票</td>\n",
       "      <td>北海祥丰嘉年华大酒店 舒适型 4.7分/5分</td>\n",
       "      <td>标准双人间(双床) 双床 不含早 1间2晚</td>\n",
       "      <td>春秋航空 9C8741</td>\n",
       "      <td>直飞</td>\n",
       "      <td>17:10-21:50</td>\n",
       "      <td>春秋航空 9C8742</td>\n",
       "      <td>直飞</td>\n",
       "      <td>10:20-15:05</td>\n",
       "    </tr>\n",
       "    <tr>\n",
       "      <th>1</th>\n",
       "      <td>成都</td>\n",
       "      <td>泸沽湖</td>\n",
       "      <td>1145.0</td>\n",
       "      <td>376.0</td>\n",
       "      <td>成都-泸沽湖3天2晚 | 入住7天酒店丽江古城中心店 + 成都航空往返机票</td>\n",
       "      <td>7天酒店丽江古城中心店 经济型 4.0分/5分</td>\n",
       "      <td>经济房-不含早-限时特... 其他 不含早 1间2晚</td>\n",
       "      <td>成都航空 EU2237</td>\n",
       "      <td>直飞</td>\n",
       "      <td>19:45-21:20</td>\n",
       "      <td>成都航空 EU2738</td>\n",
       "      <td>直飞</td>\n",
       "      <td>23:30-01:05</td>\n",
       "    </tr>\n",
       "  </tbody>\n",
       "</table>\n",
       "</div>"
      ],
      "text/plain": [
       "   出发地  目的地      价格     节省                                    路线名  \\\n",
       "0  哈尔滨   北海  2208.0  650.0   哈尔滨-北海3天2晚 | 入住北海祥丰嘉年华大酒店 + 春秋航空往返机票   \n",
       "1   成都  泸沽湖  1145.0  376.0  成都-泸沽湖3天2晚 | 入住7天酒店丽江古城中心店 + 成都航空往返机票   \n",
       "\n",
       "                        酒店                          房间         去程航司 去程方式  \\\n",
       "0   北海祥丰嘉年华大酒店 舒适型 4.7分/5分       标准双人间(双床) 双床 不含早 1间2晚  春秋航空 9C8741   直飞   \n",
       "1  7天酒店丽江古城中心店 经济型 4.0分/5分  经济房-不含早-限时特... 其他 不含早 1间2晚  成都航空 EU2237   直飞   \n",
       "\n",
       "          去程时间         回程航司 回程方式         回程时间  \n",
       "0  17:10-21:50  春秋航空 9C8742   直飞  10:20-15:05  \n",
       "1  19:45-21:20  成都航空 EU2738   直飞  23:30-01:05  "
      ]
     },
     "execution_count": 29,
     "metadata": {},
     "output_type": "execute_result"
    }
   ],
   "source": [
    "df.head(2)"
   ]
  },
  {
   "cell_type": "code",
   "execution_count": 4,
   "id": "bf783ad2",
   "metadata": {},
   "outputs": [
    {
     "data": {
      "text/plain": [
       "(5100, 13)"
      ]
     },
     "execution_count": 4,
     "metadata": {},
     "output_type": "execute_result"
    }
   ],
   "source": [
    "df.shape"
   ]
  },
  {
   "cell_type": "code",
   "execution_count": 11,
   "id": "f29bc0c4",
   "metadata": {},
   "outputs": [
    {
     "name": "stdout",
     "output_type": "stream",
     "text": [
      "<class 'pandas.core.frame.DataFrame'>\n",
      "Int64Index: 5100 entries, 0 to 5099\n",
      "Data columns (total 13 columns):\n",
      " #   Column  Non-Null Count  Dtype  \n",
      "---  ------  --------------  -----  \n",
      " 0   出发地     5098 non-null   object \n",
      " 1    目的地    5099 non-null   object \n",
      " 2   价格      5072 non-null   float64\n",
      " 3   节省      5083 non-null   float64\n",
      " 4   路线名     5100 non-null   object \n",
      " 5   酒店      5100 non-null   object \n",
      " 6   房间      5100 non-null   object \n",
      " 7   去程航司    5100 non-null   object \n",
      " 8   去程方式    5100 non-null   object \n",
      " 9   去程时间    5100 non-null   object \n",
      " 10  回程航司    5100 non-null   object \n",
      " 11  回程方式    5100 non-null   object \n",
      " 12  回程时间    5100 non-null   object \n",
      "dtypes: float64(2), object(11)\n",
      "memory usage: 557.8+ KB\n"
     ]
    }
   ],
   "source": [
    "df.info()\n",
    "#出发地、目的地、价格、节省都有缺失值"
   ]
  },
  {
   "cell_type": "code",
   "execution_count": 12,
   "id": "cf97fbcf",
   "metadata": {},
   "outputs": [
    {
     "data": {
      "text/html": [
       "<div>\n",
       "<style scoped>\n",
       "    .dataframe tbody tr th:only-of-type {\n",
       "        vertical-align: middle;\n",
       "    }\n",
       "\n",
       "    .dataframe tbody tr th {\n",
       "        vertical-align: top;\n",
       "    }\n",
       "\n",
       "    .dataframe thead th {\n",
       "        text-align: right;\n",
       "    }\n",
       "</style>\n",
       "<table border=\"1\" class=\"dataframe\">\n",
       "  <thead>\n",
       "    <tr style=\"text-align: right;\">\n",
       "      <th></th>\n",
       "      <th>价格</th>\n",
       "      <th>节省</th>\n",
       "    </tr>\n",
       "  </thead>\n",
       "  <tbody>\n",
       "    <tr>\n",
       "      <th>count</th>\n",
       "      <td>5072.000000</td>\n",
       "      <td>5083.000000</td>\n",
       "    </tr>\n",
       "    <tr>\n",
       "      <th>mean</th>\n",
       "      <td>1765.714905</td>\n",
       "      <td>474.139878</td>\n",
       "    </tr>\n",
       "    <tr>\n",
       "      <th>std</th>\n",
       "      <td>2580.129644</td>\n",
       "      <td>168.893780</td>\n",
       "    </tr>\n",
       "    <tr>\n",
       "      <th>min</th>\n",
       "      <td>578.000000</td>\n",
       "      <td>306.000000</td>\n",
       "    </tr>\n",
       "    <tr>\n",
       "      <th>25%</th>\n",
       "      <td>1253.000000</td>\n",
       "      <td>358.000000</td>\n",
       "    </tr>\n",
       "    <tr>\n",
       "      <th>50%</th>\n",
       "      <td>1632.000000</td>\n",
       "      <td>436.000000</td>\n",
       "    </tr>\n",
       "    <tr>\n",
       "      <th>75%</th>\n",
       "      <td>2028.250000</td>\n",
       "      <td>530.000000</td>\n",
       "    </tr>\n",
       "    <tr>\n",
       "      <th>max</th>\n",
       "      <td>179500.000000</td>\n",
       "      <td>3500.000000</td>\n",
       "    </tr>\n",
       "  </tbody>\n",
       "</table>\n",
       "</div>"
      ],
      "text/plain": [
       "                 价格            节省\n",
       "count    5072.000000  5083.000000\n",
       "mean     1765.714905   474.139878\n",
       "std      2580.129644   168.893780\n",
       "min       578.000000   306.000000\n",
       "25%      1253.000000   358.000000\n",
       "50%      1632.000000   436.000000\n",
       "75%      2028.250000   530.000000\n",
       "max    179500.000000  3500.000000"
      ]
     },
     "execution_count": 12,
     "metadata": {},
     "output_type": "execute_result"
    }
   ],
   "source": [
    "df.describe()\n",
    "#数据的差距很大，各分数位"
   ]
  },
  {
   "cell_type": "markdown",
   "id": "4e5727f5",
   "metadata": {},
   "source": [
    "### 去空格"
   ]
  },
  {
   "cell_type": "code",
   "execution_count": 13,
   "id": "17aa3d75",
   "metadata": {
    "scrolled": true
   },
   "outputs": [
    {
     "data": {
      "text/plain": [
       "Index(['出发地 ', ' 目的地', '价格 ', '节省', '路线名', '酒店', '房间', '去程航司', '去程方式', '去程时间',\n",
       "       '回程航司', '回程方式 ', '回程时间'],\n",
       "      dtype='object')"
      ]
     },
     "execution_count": 13,
     "metadata": {},
     "output_type": "execute_result"
    }
   ],
   "source": [
    "df.columns\n",
    "#列表里面有空格"
   ]
  },
  {
   "cell_type": "code",
   "execution_count": 17,
   "id": "63264cf3",
   "metadata": {},
   "outputs": [
    {
     "data": {
      "text/plain": [
       "array(['出发地 ', ' 目的地', '价格 ', '节省', '路线名', '酒店', '房间', '去程航司', '去程方式',\n",
       "       '去程时间', '回程航司', '回程方式 ', '回程时间'], dtype=object)"
      ]
     },
     "execution_count": 17,
     "metadata": {},
     "output_type": "execute_result"
    }
   ],
   "source": [
    "col = df.columns.values\n",
    "col"
   ]
  },
  {
   "cell_type": "code",
   "execution_count": 19,
   "id": "5a8de4ad",
   "metadata": {},
   "outputs": [
    {
     "data": {
      "text/plain": [
       "Index(['出发地', '目的地', '价格', '节省', '路线名', '酒店', '房间', '去程航司', '去程方式', '去程时间',\n",
       "       '回程航司', '回程方式', '回程时间'],\n",
       "      dtype='object')"
      ]
     },
     "execution_count": 19,
     "metadata": {},
     "output_type": "execute_result"
    }
   ],
   "source": [
    "col = [i.strip() for i in col]\n",
    "df.columns = col\n",
    "df.columns"
   ]
  },
  {
   "cell_type": "markdown",
   "id": "af6d90d4",
   "metadata": {},
   "source": [
    "### 检查重复值"
   ]
  },
  {
   "cell_type": "code",
   "execution_count": 24,
   "id": "b1a53550",
   "metadata": {},
   "outputs": [
    {
     "data": {
      "text/plain": [
       "0       False\n",
       "1       False\n",
       "2       False\n",
       "3       False\n",
       "4       False\n",
       "        ...  \n",
       "5095     True\n",
       "5096    False\n",
       "5097    False\n",
       "5098    False\n",
       "5099    False\n",
       "Length: 5100, dtype: bool"
      ]
     },
     "execution_count": 24,
     "metadata": {},
     "output_type": "execute_result"
    }
   ],
   "source": [
    "df.duplicated()"
   ]
  },
  {
   "cell_type": "code",
   "execution_count": 25,
   "id": "495095ba",
   "metadata": {},
   "outputs": [
    {
     "data": {
      "text/html": [
       "<div>\n",
       "<style scoped>\n",
       "    .dataframe tbody tr th:only-of-type {\n",
       "        vertical-align: middle;\n",
       "    }\n",
       "\n",
       "    .dataframe tbody tr th {\n",
       "        vertical-align: top;\n",
       "    }\n",
       "\n",
       "    .dataframe thead th {\n",
       "        text-align: right;\n",
       "    }\n",
       "</style>\n",
       "<table border=\"1\" class=\"dataframe\">\n",
       "  <thead>\n",
       "    <tr style=\"text-align: right;\">\n",
       "      <th></th>\n",
       "      <th>出发地</th>\n",
       "      <th>目的地</th>\n",
       "      <th>价格</th>\n",
       "      <th>节省</th>\n",
       "      <th>路线名</th>\n",
       "      <th>酒店</th>\n",
       "      <th>房间</th>\n",
       "      <th>去程航司</th>\n",
       "      <th>去程方式</th>\n",
       "      <th>去程时间</th>\n",
       "      <th>回程航司</th>\n",
       "      <th>回程方式</th>\n",
       "      <th>回程时间</th>\n",
       "    </tr>\n",
       "  </thead>\n",
       "  <tbody>\n",
       "    <tr>\n",
       "      <th>454</th>\n",
       "      <td>广州</td>\n",
       "      <td>黄山</td>\n",
       "      <td>1871.0</td>\n",
       "      <td>492.0</td>\n",
       "      <td>广州-黄山3天2晚 | 入住黄山汤口醉享主题酒店 + 南方航空往返机票</td>\n",
       "      <td>黄山汤口醉享主题酒店 舒适型 4.8分/5分</td>\n",
       "      <td>睫毛弯弯(大床) 大床 不含早 1间2晚</td>\n",
       "      <td>南方航空 CZ3627</td>\n",
       "      <td>直飞</td>\n",
       "      <td>19:20-21:15</td>\n",
       "      <td>南方航空 CZ3628</td>\n",
       "      <td>直飞</td>\n",
       "      <td>22:05-23:50</td>\n",
       "    </tr>\n",
       "    <tr>\n",
       "      <th>649</th>\n",
       "      <td>济南</td>\n",
       "      <td>长沙</td>\n",
       "      <td>1134.0</td>\n",
       "      <td>360.0</td>\n",
       "      <td>济南-长沙3天2晚 | 入住长沙喜迎宾华天大酒店 + 山东航空往返机票</td>\n",
       "      <td>长沙喜迎宾华天大酒店 高档型 3.7分/5分</td>\n",
       "      <td>特惠双间(特惠抢购)(... 双床 不含早 1间2晚</td>\n",
       "      <td>山东航空 SC1185</td>\n",
       "      <td>直飞</td>\n",
       "      <td>18:40-20:50</td>\n",
       "      <td>山东航空 SC1186</td>\n",
       "      <td>直飞</td>\n",
       "      <td>10:20-12:15</td>\n",
       "    </tr>\n",
       "    <tr>\n",
       "      <th>685</th>\n",
       "      <td>青岛</td>\n",
       "      <td>重庆</td>\n",
       "      <td>1474.0</td>\n",
       "      <td>420.0</td>\n",
       "      <td>青岛-重庆3天2晚 | 入住怡家丽景酒店重庆垫江店 + 山东航空/华夏航空往返机票</td>\n",
       "      <td>怡家丽景酒店重庆垫江店 舒适型 4.3分/5分</td>\n",
       "      <td>法式房(内宾)(无窗)... 大床 不含早 1间2晚</td>\n",
       "      <td>山东航空 SC4709</td>\n",
       "      <td>经停</td>\n",
       "      <td>19:30-00:05</td>\n",
       "      <td>华夏航空 G54710</td>\n",
       "      <td>经停</td>\n",
       "      <td>18:00-22:25</td>\n",
       "    </tr>\n",
       "    <tr>\n",
       "      <th>852</th>\n",
       "      <td>北京</td>\n",
       "      <td>哈尔滨</td>\n",
       "      <td>1450.0</td>\n",
       "      <td>368.0</td>\n",
       "      <td>北京-哈尔滨3天2晚 | 入住哈尔滨水逸城市酒店 + 南方航空/大新华航空往返机票</td>\n",
       "      <td>哈尔滨水逸城市酒店 舒适型 4.6分/5分</td>\n",
       "      <td>标准间-【预付特惠】独... 双床 双早 1间2晚</td>\n",
       "      <td>南方航空 CZ6202</td>\n",
       "      <td>直飞</td>\n",
       "      <td>22:20-00:20</td>\n",
       "      <td>大新华航空 CN7150</td>\n",
       "      <td>直飞</td>\n",
       "      <td>22:50-00:55</td>\n",
       "    </tr>\n",
       "    <tr>\n",
       "      <th>922</th>\n",
       "      <td>北京</td>\n",
       "      <td>长沙</td>\n",
       "      <td>1289.0</td>\n",
       "      <td>334.0</td>\n",
       "      <td>北京-长沙3天2晚 | 入住浏阳市华尔宫大酒店 + 海南航空/南方航空往返机票</td>\n",
       "      <td>浏阳市华尔宫大酒店 3.8分/5分</td>\n",
       "      <td>豪华双人间(双床) 双床 不含早 1间2晚</td>\n",
       "      <td>海南航空 HU7135</td>\n",
       "      <td>直飞</td>\n",
       "      <td>17:45-20:30</td>\n",
       "      <td>南方航空 CZ3855</td>\n",
       "      <td>直飞</td>\n",
       "      <td>22:55-01:10</td>\n",
       "    </tr>\n",
       "    <tr>\n",
       "      <th>...</th>\n",
       "      <td>...</td>\n",
       "      <td>...</td>\n",
       "      <td>...</td>\n",
       "      <td>...</td>\n",
       "      <td>...</td>\n",
       "      <td>...</td>\n",
       "      <td>...</td>\n",
       "      <td>...</td>\n",
       "      <td>...</td>\n",
       "      <td>...</td>\n",
       "      <td>...</td>\n",
       "      <td>...</td>\n",
       "      <td>...</td>\n",
       "    </tr>\n",
       "    <tr>\n",
       "      <th>5045</th>\n",
       "      <td>杭州</td>\n",
       "      <td>丽江</td>\n",
       "      <td>2872.0</td>\n",
       "      <td>718.0</td>\n",
       "      <td>杭州-丽江3天2晚 | 入住丽江松竹居客栈玉观音店 + 长龙航空/首都航空往返机票</td>\n",
       "      <td>丽江松竹居客栈玉观音店 高档型 4.6分/5分</td>\n",
       "      <td>特惠房(大床) 大床 不含早 1间2晚</td>\n",
       "      <td>长龙航空 GJ8869</td>\n",
       "      <td>经停</td>\n",
       "      <td>08:50-13:35</td>\n",
       "      <td>首都航空 JD5192</td>\n",
       "      <td>直飞</td>\n",
       "      <td>13:00-16:15</td>\n",
       "    </tr>\n",
       "    <tr>\n",
       "      <th>5066</th>\n",
       "      <td>哈尔滨</td>\n",
       "      <td>西安</td>\n",
       "      <td>1843.0</td>\n",
       "      <td>450.0</td>\n",
       "      <td>哈尔滨-西安3天2晚 | 入住西安铁通商务酒店贵宾楼 + 天津航空/东方航空往返...</td>\n",
       "      <td>西安铁通商务酒店贵宾楼 舒适型 4.2分/5分</td>\n",
       "      <td>标准间(持房卡尊享清凉... 双床 不含早 1间2晚</td>\n",
       "      <td>天津航空 GS7584</td>\n",
       "      <td>经停</td>\n",
       "      <td>12:30-17:40</td>\n",
       "      <td>东方航空 MU2211</td>\n",
       "      <td>经停</td>\n",
       "      <td>08:45-13:25</td>\n",
       "    </tr>\n",
       "    <tr>\n",
       "      <th>5068</th>\n",
       "      <td>南京</td>\n",
       "      <td>成都</td>\n",
       "      <td>1922.0</td>\n",
       "      <td>552.0</td>\n",
       "      <td>南京-成都3天2晚 | 入住成都伊丽特酒店 + 东方航空/西藏航空往返机票</td>\n",
       "      <td>成都伊丽特酒店 高档型 4.5分/5分</td>\n",
       "      <td>行政标准间-含早立即确... 双床 双早 1间2晚</td>\n",
       "      <td>东方航空 MU2880</td>\n",
       "      <td>直飞</td>\n",
       "      <td>21:55-00:35</td>\n",
       "      <td>西藏航空 TV9839</td>\n",
       "      <td>直飞</td>\n",
       "      <td>06:30-08:55</td>\n",
       "    </tr>\n",
       "    <tr>\n",
       "      <th>5081</th>\n",
       "      <td>上海</td>\n",
       "      <td>青岛</td>\n",
       "      <td>769.0</td>\n",
       "      <td>354.0</td>\n",
       "      <td>上海-青岛3天2晚 | 入住青岛金中太大酒店 + 春秋航空/吉祥航空往返机票</td>\n",
       "      <td>青岛金中太大酒店 舒适型 4.8分/5分</td>\n",
       "      <td>特惠大床房[无早] 大床 不含早 1间2晚</td>\n",
       "      <td>春秋航空 9C8853</td>\n",
       "      <td>直飞</td>\n",
       "      <td>19:50-21:35</td>\n",
       "      <td>吉祥航空 HO1242</td>\n",
       "      <td>直飞</td>\n",
       "      <td>23:05-00:35</td>\n",
       "    </tr>\n",
       "    <tr>\n",
       "      <th>5095</th>\n",
       "      <td>宁波</td>\n",
       "      <td>九寨沟</td>\n",
       "      <td>2085.0</td>\n",
       "      <td>562.0</td>\n",
       "      <td>宁波-九寨沟3天2晚 | 入住黑水县达古冰山国际大酒店 + 成都航空/四川航空往...</td>\n",
       "      <td>黑水县达古冰山国际大酒店 豪华型 3.9分/5分</td>\n",
       "      <td>B区豪华标间(双床) 双床 不含早 1间2晚</td>\n",
       "      <td>成都航空 EU2730</td>\n",
       "      <td>经停</td>\n",
       "      <td>19:45-00:45</td>\n",
       "      <td>四川航空 3U8927</td>\n",
       "      <td>经停</td>\n",
       "      <td>07:55-12:15</td>\n",
       "    </tr>\n",
       "  </tbody>\n",
       "</table>\n",
       "<p>100 rows × 13 columns</p>\n",
       "</div>"
      ],
      "text/plain": [
       "      出发地  目的地      价格     节省                                          路线名  \\\n",
       "454    广州   黄山  1871.0  492.0          广州-黄山3天2晚 | 入住黄山汤口醉享主题酒店 + 南方航空往返机票   \n",
       "649    济南   长沙  1134.0  360.0          济南-长沙3天2晚 | 入住长沙喜迎宾华天大酒店 + 山东航空往返机票   \n",
       "685    青岛   重庆  1474.0  420.0    青岛-重庆3天2晚 | 入住怡家丽景酒店重庆垫江店 + 山东航空/华夏航空往返机票   \n",
       "852    北京  哈尔滨  1450.0  368.0    北京-哈尔滨3天2晚 | 入住哈尔滨水逸城市酒店 + 南方航空/大新华航空往返机票   \n",
       "922    北京   长沙  1289.0  334.0      北京-长沙3天2晚 | 入住浏阳市华尔宫大酒店 + 海南航空/南方航空往返机票   \n",
       "...   ...  ...     ...    ...                                          ...   \n",
       "5045   杭州   丽江  2872.0  718.0    杭州-丽江3天2晚 | 入住丽江松竹居客栈玉观音店 + 长龙航空/首都航空往返机票   \n",
       "5066  哈尔滨   西安  1843.0  450.0  哈尔滨-西安3天2晚 | 入住西安铁通商务酒店贵宾楼 + 天津航空/东方航空往返...   \n",
       "5068   南京   成都  1922.0  552.0        南京-成都3天2晚 | 入住成都伊丽特酒店 + 东方航空/西藏航空往返机票   \n",
       "5081   上海   青岛   769.0  354.0       上海-青岛3天2晚 | 入住青岛金中太大酒店 + 春秋航空/吉祥航空往返机票   \n",
       "5095   宁波  九寨沟  2085.0  562.0  宁波-九寨沟3天2晚 | 入住黑水县达古冰山国际大酒店 + 成都航空/四川航空往...   \n",
       "\n",
       "                            酒店                          房间         去程航司 去程方式  \\\n",
       "454     黄山汤口醉享主题酒店 舒适型 4.8分/5分        睫毛弯弯(大床) 大床 不含早 1间2晚  南方航空 CZ3627   直飞   \n",
       "649     长沙喜迎宾华天大酒店 高档型 3.7分/5分  特惠双间(特惠抢购)(... 双床 不含早 1间2晚  山东航空 SC1185   直飞   \n",
       "685    怡家丽景酒店重庆垫江店 舒适型 4.3分/5分  法式房(内宾)(无窗)... 大床 不含早 1间2晚  山东航空 SC4709   经停   \n",
       "852      哈尔滨水逸城市酒店 舒适型 4.6分/5分   标准间-【预付特惠】独... 双床 双早 1间2晚  南方航空 CZ6202   直飞   \n",
       "922          浏阳市华尔宫大酒店 3.8分/5分       豪华双人间(双床) 双床 不含早 1间2晚  海南航空 HU7135   直飞   \n",
       "...                        ...                         ...          ...  ...   \n",
       "5045   丽江松竹居客栈玉观音店 高档型 4.6分/5分         特惠房(大床) 大床 不含早 1间2晚  长龙航空 GJ8869   经停   \n",
       "5066   西安铁通商务酒店贵宾楼 舒适型 4.2分/5分  标准间(持房卡尊享清凉... 双床 不含早 1间2晚  天津航空 GS7584   经停   \n",
       "5068       成都伊丽特酒店 高档型 4.5分/5分   行政标准间-含早立即确... 双床 双早 1间2晚  东方航空 MU2880   直飞   \n",
       "5081      青岛金中太大酒店 舒适型 4.8分/5分       特惠大床房[无早] 大床 不含早 1间2晚  春秋航空 9C8853   直飞   \n",
       "5095  黑水县达古冰山国际大酒店 豪华型 3.9分/5分      B区豪华标间(双床) 双床 不含早 1间2晚  成都航空 EU2730   经停   \n",
       "\n",
       "             去程时间          回程航司 回程方式         回程时间  \n",
       "454   19:20-21:15   南方航空 CZ3628   直飞  22:05-23:50  \n",
       "649   18:40-20:50   山东航空 SC1186   直飞  10:20-12:15  \n",
       "685   19:30-00:05   华夏航空 G54710   经停  18:00-22:25  \n",
       "852   22:20-00:20  大新华航空 CN7150   直飞  22:50-00:55  \n",
       "922   17:45-20:30   南方航空 CZ3855   直飞  22:55-01:10  \n",
       "...           ...           ...  ...          ...  \n",
       "5045  08:50-13:35   首都航空 JD5192   直飞  13:00-16:15  \n",
       "5066  12:30-17:40   东方航空 MU2211   经停  08:45-13:25  \n",
       "5068  21:55-00:35   西藏航空 TV9839   直飞  06:30-08:55  \n",
       "5081  19:50-21:35   吉祥航空 HO1242   直飞  23:05-00:35  \n",
       "5095  19:45-00:45   四川航空 3U8927   经停  07:55-12:15  \n",
       "\n",
       "[100 rows x 13 columns]"
      ]
     },
     "execution_count": 25,
     "metadata": {},
     "output_type": "execute_result"
    }
   ],
   "source": [
    "#查看哪些是重复的\n",
    "df[df.duplicated()]"
   ]
  },
  {
   "cell_type": "code",
   "execution_count": 26,
   "id": "9456ba97",
   "metadata": {},
   "outputs": [
    {
     "data": {
      "text/plain": [
       "100"
      ]
     },
     "execution_count": 26,
     "metadata": {},
     "output_type": "execute_result"
    }
   ],
   "source": [
    "#True = 1 ,查看多少个事重复的\n",
    "df.duplicated().sum()"
   ]
  },
  {
   "cell_type": "markdown",
   "id": "eeec2e82",
   "metadata": {},
   "source": [
    "在jupyter里面操作数据集，如果直接返回数据，说明没有对原数据集进行操作"
   ]
  },
  {
   "cell_type": "code",
   "execution_count": 27,
   "id": "e0d00672",
   "metadata": {},
   "outputs": [
    {
     "data": {
      "text/plain": [
       "(5000, 13)"
      ]
     },
     "execution_count": 27,
     "metadata": {},
     "output_type": "execute_result"
    }
   ],
   "source": [
    "#删除重复值\n",
    "df.drop_duplicates(inplace=True)\n",
    "df.shape"
   ]
  },
  {
   "cell_type": "code",
   "execution_count": 34,
   "id": "1016b6d9",
   "metadata": {},
   "outputs": [
    {
     "data": {
      "text/html": [
       "<div>\n",
       "<style scoped>\n",
       "    .dataframe tbody tr th:only-of-type {\n",
       "        vertical-align: middle;\n",
       "    }\n",
       "\n",
       "    .dataframe tbody tr th {\n",
       "        vertical-align: top;\n",
       "    }\n",
       "\n",
       "    .dataframe thead th {\n",
       "        text-align: right;\n",
       "    }\n",
       "</style>\n",
       "<table border=\"1\" class=\"dataframe\">\n",
       "  <thead>\n",
       "    <tr style=\"text-align: right;\">\n",
       "      <th></th>\n",
       "      <th>0</th>\n",
       "      <th>1</th>\n",
       "    </tr>\n",
       "  </thead>\n",
       "  <tbody>\n",
       "    <tr>\n",
       "      <th>出发地</th>\n",
       "      <td>哈尔滨</td>\n",
       "      <td>成都</td>\n",
       "    </tr>\n",
       "    <tr>\n",
       "      <th>目的地</th>\n",
       "      <td>北海</td>\n",
       "      <td>泸沽湖</td>\n",
       "    </tr>\n",
       "    <tr>\n",
       "      <th>价格</th>\n",
       "      <td>2208.0</td>\n",
       "      <td>1145.0</td>\n",
       "    </tr>\n",
       "    <tr>\n",
       "      <th>节省</th>\n",
       "      <td>650.0</td>\n",
       "      <td>376.0</td>\n",
       "    </tr>\n",
       "    <tr>\n",
       "      <th>路线名</th>\n",
       "      <td>哈尔滨-北海3天2晚 | 入住北海祥丰嘉年华大酒店 + 春秋航空往返机票</td>\n",
       "      <td>成都-泸沽湖3天2晚 | 入住7天酒店丽江古城中心店 + 成都航空往返机票</td>\n",
       "    </tr>\n",
       "    <tr>\n",
       "      <th>酒店</th>\n",
       "      <td>北海祥丰嘉年华大酒店 舒适型 4.7分/5分</td>\n",
       "      <td>7天酒店丽江古城中心店 经济型 4.0分/5分</td>\n",
       "    </tr>\n",
       "    <tr>\n",
       "      <th>房间</th>\n",
       "      <td>标准双人间(双床) 双床 不含早 1间2晚</td>\n",
       "      <td>经济房-不含早-限时特... 其他 不含早 1间2晚</td>\n",
       "    </tr>\n",
       "    <tr>\n",
       "      <th>去程航司</th>\n",
       "      <td>春秋航空 9C8741</td>\n",
       "      <td>成都航空 EU2237</td>\n",
       "    </tr>\n",
       "    <tr>\n",
       "      <th>去程方式</th>\n",
       "      <td>直飞</td>\n",
       "      <td>直飞</td>\n",
       "    </tr>\n",
       "    <tr>\n",
       "      <th>去程时间</th>\n",
       "      <td>17:10-21:50</td>\n",
       "      <td>19:45-21:20</td>\n",
       "    </tr>\n",
       "    <tr>\n",
       "      <th>回程航司</th>\n",
       "      <td>春秋航空 9C8742</td>\n",
       "      <td>成都航空 EU2738</td>\n",
       "    </tr>\n",
       "    <tr>\n",
       "      <th>回程方式</th>\n",
       "      <td>直飞</td>\n",
       "      <td>直飞</td>\n",
       "    </tr>\n",
       "    <tr>\n",
       "      <th>回程时间</th>\n",
       "      <td>10:20-15:05</td>\n",
       "      <td>23:30-01:05</td>\n",
       "    </tr>\n",
       "  </tbody>\n",
       "</table>\n",
       "</div>"
      ],
      "text/plain": [
       "                                         0  \\\n",
       "出发地                                    哈尔滨   \n",
       "目的地                                     北海   \n",
       "价格                                  2208.0   \n",
       "节省                                   650.0   \n",
       "路线名   哈尔滨-北海3天2晚 | 入住北海祥丰嘉年华大酒店 + 春秋航空往返机票   \n",
       "酒店                  北海祥丰嘉年华大酒店 舒适型 4.7分/5分   \n",
       "房间                   标准双人间(双床) 双床 不含早 1间2晚   \n",
       "去程航司                           春秋航空 9C8741   \n",
       "去程方式                                    直飞   \n",
       "去程时间                           17:10-21:50   \n",
       "回程航司                           春秋航空 9C8742   \n",
       "回程方式                                    直飞   \n",
       "回程时间                           10:20-15:05   \n",
       "\n",
       "                                          1  \n",
       "出发地                                      成都  \n",
       "目的地                                     泸沽湖  \n",
       "价格                                   1145.0  \n",
       "节省                                    376.0  \n",
       "路线名   成都-泸沽湖3天2晚 | 入住7天酒店丽江古城中心店 + 成都航空往返机票  \n",
       "酒店                  7天酒店丽江古城中心店 经济型 4.0分/5分  \n",
       "房间               经济房-不含早-限时特... 其他 不含早 1间2晚  \n",
       "去程航司                            成都航空 EU2237  \n",
       "去程方式                                     直飞  \n",
       "去程时间                            19:45-21:20  \n",
       "回程航司                            成都航空 EU2738  \n",
       "回程方式                                     直飞  \n",
       "回程时间                            23:30-01:05  "
      ]
     },
     "execution_count": 34,
     "metadata": {},
     "output_type": "execute_result"
    }
   ],
   "source": [
    "df.head(2).T"
   ]
  },
  {
   "cell_type": "code",
   "execution_count": 32,
   "id": "b08bc1f1",
   "metadata": {},
   "outputs": [
    {
     "data": {
      "text/plain": [
       "Int64Index([   0,    1,    2,    3,    4,    5,    6,    7,    8,    9,\n",
       "            ...\n",
       "            5089, 5090, 5091, 5092, 5093, 5094, 5096, 5097, 5098, 5099],\n",
       "           dtype='int64', length=5000)"
      ]
     },
     "execution_count": 32,
     "metadata": {},
     "output_type": "execute_result"
    }
   ],
   "source": [
    "df.index"
   ]
  },
  {
   "cell_type": "code",
   "execution_count": 33,
   "id": "498a8f44",
   "metadata": {},
   "outputs": [
    {
     "data": {
      "text/plain": [
       "RangeIndex(start=0, stop=5000, step=1)"
      ]
     },
     "execution_count": 33,
     "metadata": {},
     "output_type": "execute_result"
    }
   ],
   "source": [
    "#动了原数据集就要索引重置\n",
    "df.index = range(5000)\n",
    "df.index"
   ]
  },
  {
   "cell_type": "code",
   "execution_count": 36,
   "id": "114e01ef",
   "metadata": {},
   "outputs": [
    {
     "name": "stdout",
     "output_type": "stream",
     "text": [
      "<class 'pandas.core.frame.DataFrame'>\n",
      "RangeIndex: 5000 entries, 0 to 4999\n",
      "Data columns (total 13 columns):\n",
      " #   Column  Non-Null Count  Dtype  \n",
      "---  ------  --------------  -----  \n",
      " 0   出发地     4998 non-null   object \n",
      " 1   目的地     4999 non-null   object \n",
      " 2   价格      4972 non-null   float64\n",
      " 3   节省      4983 non-null   float64\n",
      " 4   路线名     5000 non-null   object \n",
      " 5   酒店      5000 non-null   object \n",
      " 6   房间      5000 non-null   object \n",
      " 7   去程航司    5000 non-null   object \n",
      " 8   去程方式    5000 non-null   object \n",
      " 9   去程时间    5000 non-null   object \n",
      " 10  回程航司    5000 non-null   object \n",
      " 11  回程方式    5000 non-null   object \n",
      " 12  回程时间    5000 non-null   object \n",
      "dtypes: float64(2), object(11)\n",
      "memory usage: 507.9+ KB\n"
     ]
    }
   ],
   "source": [
    "df.info()"
   ]
  },
  {
   "cell_type": "code",
   "execution_count": 37,
   "id": "490e4c4c",
   "metadata": {},
   "outputs": [
    {
     "data": {
      "text/html": [
       "<div>\n",
       "<style scoped>\n",
       "    .dataframe tbody tr th:only-of-type {\n",
       "        vertical-align: middle;\n",
       "    }\n",
       "\n",
       "    .dataframe tbody tr th {\n",
       "        vertical-align: top;\n",
       "    }\n",
       "\n",
       "    .dataframe thead th {\n",
       "        text-align: right;\n",
       "    }\n",
       "</style>\n",
       "<table border=\"1\" class=\"dataframe\">\n",
       "  <thead>\n",
       "    <tr style=\"text-align: right;\">\n",
       "      <th></th>\n",
       "      <th>count</th>\n",
       "      <th>mean</th>\n",
       "      <th>std</th>\n",
       "      <th>min</th>\n",
       "      <th>25%</th>\n",
       "      <th>50%</th>\n",
       "      <th>75%</th>\n",
       "      <th>max</th>\n",
       "    </tr>\n",
       "  </thead>\n",
       "  <tbody>\n",
       "    <tr>\n",
       "      <th>价格</th>\n",
       "      <td>4972.0</td>\n",
       "      <td>1767.782381</td>\n",
       "      <td>2604.329780</td>\n",
       "      <td>578.0</td>\n",
       "      <td>1253.0</td>\n",
       "      <td>1633.0</td>\n",
       "      <td>2031.0</td>\n",
       "      <td>179500.0</td>\n",
       "    </tr>\n",
       "    <tr>\n",
       "      <th>节省</th>\n",
       "      <td>4983.0</td>\n",
       "      <td>474.490869</td>\n",
       "      <td>169.148391</td>\n",
       "      <td>306.0</td>\n",
       "      <td>358.0</td>\n",
       "      <td>436.0</td>\n",
       "      <td>532.0</td>\n",
       "      <td>3500.0</td>\n",
       "    </tr>\n",
       "  </tbody>\n",
       "</table>\n",
       "</div>"
      ],
      "text/plain": [
       "     count         mean          std    min     25%     50%     75%       max\n",
       "价格  4972.0  1767.782381  2604.329780  578.0  1253.0  1633.0  2031.0  179500.0\n",
       "节省  4983.0   474.490869   169.148391  306.0   358.0   436.0   532.0    3500.0"
      ]
     },
     "execution_count": 37,
     "metadata": {},
     "output_type": "execute_result"
    }
   ],
   "source": [
    "df.describe().T"
   ]
  },
  {
   "cell_type": "code",
   "execution_count": 38,
   "id": "012f5ab2",
   "metadata": {},
   "outputs": [
    {
     "data": {
      "text/plain": [
       "0       0.169033\n",
       "1       0.239133\n",
       "2       0.358717\n",
       "3       0.071503\n",
       "4       0.061353\n",
       "          ...   \n",
       "4995    0.113189\n",
       "4996    0.234142\n",
       "4997    0.058281\n",
       "4998    0.024875\n",
       "4999    0.221087\n",
       "Name: 价格, Length: 5000, dtype: float64"
      ]
     },
     "execution_count": 38,
     "metadata": {},
     "output_type": "execute_result"
    }
   ],
   "source": [
    "#找异常值，sta是转换成正态分布后的数值，大于3倍标准差是异常数据\n",
    "sta = (df['价格']-df['价格'].mean())/df['价格'].std()\n",
    "abs(sta)"
   ]
  },
  {
   "cell_type": "code",
   "execution_count": 46,
   "id": "ad2483ba",
   "metadata": {
    "scrolled": true
   },
   "outputs": [
    {
     "data": {
      "text/plain": [
       "Int64Index([2763], dtype='int64')"
      ]
     },
     "execution_count": 46,
     "metadata": {},
     "output_type": "execute_result"
    }
   ],
   "source": [
    "df[sta.abs()>3].index\n",
    "#找出价格异常值"
   ]
  },
  {
   "cell_type": "code",
   "execution_count": null,
   "id": "53a2bcce",
   "metadata": {},
   "outputs": [],
   "source": [
    "df.drop()"
   ]
  },
  {
   "cell_type": "code",
   "execution_count": 40,
   "id": "ec6ee071",
   "metadata": {},
   "outputs": [
    {
     "data": {
      "text/plain": [
       "48"
      ]
     },
     "execution_count": 40,
     "metadata": {},
     "output_type": "execute_result"
    }
   ],
   "source": [
    "5000-((df.价格>df.节省).sum())"
   ]
  },
  {
   "cell_type": "code",
   "execution_count": 45,
   "id": "1a7fad54",
   "metadata": {},
   "outputs": [
    {
     "data": {
      "text/plain": [
       "Int64Index([2904, 3108, 3660], dtype='int64')"
      ]
     },
     "execution_count": 45,
     "metadata": {},
     "output_type": "execute_result"
    }
   ],
   "source": [
    "df[df.节省>df.价格].index"
   ]
  },
  {
   "cell_type": "code",
   "execution_count": 52,
   "id": "a0ead5de",
   "metadata": {},
   "outputs": [
    {
     "data": {
      "text/html": [
       "<div>\n",
       "<style scoped>\n",
       "    .dataframe tbody tr th:only-of-type {\n",
       "        vertical-align: middle;\n",
       "    }\n",
       "\n",
       "    .dataframe tbody tr th {\n",
       "        vertical-align: top;\n",
       "    }\n",
       "\n",
       "    .dataframe thead th {\n",
       "        text-align: right;\n",
       "    }\n",
       "</style>\n",
       "<table border=\"1\" class=\"dataframe\">\n",
       "  <thead>\n",
       "    <tr style=\"text-align: right;\">\n",
       "      <th></th>\n",
       "      <th>出发地</th>\n",
       "      <th>目的地</th>\n",
       "      <th>价格</th>\n",
       "      <th>节省</th>\n",
       "      <th>路线名</th>\n",
       "      <th>酒店</th>\n",
       "      <th>房间</th>\n",
       "      <th>去程航司</th>\n",
       "      <th>去程方式</th>\n",
       "      <th>去程时间</th>\n",
       "      <th>回程航司</th>\n",
       "      <th>回程方式</th>\n",
       "      <th>回程时间</th>\n",
       "    </tr>\n",
       "  </thead>\n",
       "  <tbody>\n",
       "    <tr>\n",
       "      <th>2904</th>\n",
       "      <td>武汉</td>\n",
       "      <td>西安</td>\n",
       "      <td>949.0</td>\n",
       "      <td>3500.0</td>\n",
       "      <td>武汉-西安3天2晚 | 入住西安西稍门大酒店 + 东方航空往返机票</td>\n",
       "      <td>西安西稍门大酒店 舒适型 3.3分/5分</td>\n",
       "      <td>标准间B(丝路之旅)(... 双床 不含早 1间2晚</td>\n",
       "      <td>东方航空 MU2194</td>\n",
       "      <td>直飞</td>\n",
       "      <td>21:50-23:30</td>\n",
       "      <td>东方航空 MU2462</td>\n",
       "      <td>直飞</td>\n",
       "      <td>19:35-21:20</td>\n",
       "    </tr>\n",
       "    <tr>\n",
       "      <th>3108</th>\n",
       "      <td>济南</td>\n",
       "      <td>大连</td>\n",
       "      <td>911.0</td>\n",
       "      <td>3180.0</td>\n",
       "      <td>济南-大连3天2晚 | 入住普兰店科洋大酒店 + 山东航空/厦门航空往返机票</td>\n",
       "      <td>普兰店科洋大酒店 舒适型 4.4分/5分</td>\n",
       "      <td>大床房(限量促销) 大床 不含早 1间2晚</td>\n",
       "      <td>山东航空 SC4916</td>\n",
       "      <td>直飞</td>\n",
       "      <td>19:45-20:50</td>\n",
       "      <td>厦门航空 MF8042</td>\n",
       "      <td>直飞</td>\n",
       "      <td>13:10-14:20</td>\n",
       "    </tr>\n",
       "    <tr>\n",
       "      <th>3660</th>\n",
       "      <td>沈阳</td>\n",
       "      <td>青岛</td>\n",
       "      <td>924.0</td>\n",
       "      <td>3200.0</td>\n",
       "      <td>沈阳-青岛3天2晚 | 入住星程酒店青岛台东步行街店 + 青岛航/南方航空往返机票</td>\n",
       "      <td>星程酒店青岛台东步行街店 舒适型 4.2分/5分</td>\n",
       "      <td>大床房(内宾)(提前1... 大床 不含早 1间2晚</td>\n",
       "      <td>青岛航 QW9780</td>\n",
       "      <td>直飞</td>\n",
       "      <td>22:35-00:10</td>\n",
       "      <td>南方航空 CZ6568</td>\n",
       "      <td>直飞</td>\n",
       "      <td>20:55-22:35</td>\n",
       "    </tr>\n",
       "    <tr>\n",
       "      <th>2763</th>\n",
       "      <td>杭州</td>\n",
       "      <td>九寨沟</td>\n",
       "      <td>179500.0</td>\n",
       "      <td>538.0</td>\n",
       "      <td>杭州-九寨沟3天2晚 | 入住九寨沟九乡宾馆 + 成都航空/长龙航空往返机票</td>\n",
       "      <td>九寨沟九乡宾馆 舒适型 4.3分/5分</td>\n",
       "      <td>特惠房(双床) 双床 不含早 1间2晚</td>\n",
       "      <td>成都航空 EU2206</td>\n",
       "      <td>经停</td>\n",
       "      <td>20:30-01:00</td>\n",
       "      <td>长龙航空 GJ8680</td>\n",
       "      <td>经停</td>\n",
       "      <td>20:25-00:50</td>\n",
       "    </tr>\n",
       "  </tbody>\n",
       "</table>\n",
       "</div>"
      ],
      "text/plain": [
       "     出发地  目的地        价格      节省                                        路线名  \\\n",
       "2904  武汉   西安     949.0  3500.0          武汉-西安3天2晚 | 入住西安西稍门大酒店 + 东方航空往返机票   \n",
       "3108  济南   大连     911.0  3180.0     济南-大连3天2晚 | 入住普兰店科洋大酒店 + 山东航空/厦门航空往返机票   \n",
       "3660  沈阳   青岛     924.0  3200.0  沈阳-青岛3天2晚 | 入住星程酒店青岛台东步行街店 + 青岛航/南方航空往返机票   \n",
       "2763  杭州  九寨沟  179500.0   538.0     杭州-九寨沟3天2晚 | 入住九寨沟九乡宾馆 + 成都航空/长龙航空往返机票   \n",
       "\n",
       "                            酒店                          房间         去程航司 去程方式  \\\n",
       "2904      西安西稍门大酒店 舒适型 3.3分/5分  标准间B(丝路之旅)(... 双床 不含早 1间2晚  东方航空 MU2194   直飞   \n",
       "3108      普兰店科洋大酒店 舒适型 4.4分/5分       大床房(限量促销) 大床 不含早 1间2晚  山东航空 SC4916   直飞   \n",
       "3660  星程酒店青岛台东步行街店 舒适型 4.2分/5分  大床房(内宾)(提前1... 大床 不含早 1间2晚   青岛航 QW9780   直飞   \n",
       "2763       九寨沟九乡宾馆 舒适型 4.3分/5分         特惠房(双床) 双床 不含早 1间2晚  成都航空 EU2206   经停   \n",
       "\n",
       "             去程时间         回程航司 回程方式         回程时间  \n",
       "2904  21:50-23:30  东方航空 MU2462   直飞  19:35-21:20  \n",
       "3108  19:45-20:50  厦门航空 MF8042   直飞  13:10-14:20  \n",
       "3660  22:35-00:10  南方航空 CZ6568   直飞  20:55-22:35  \n",
       "2763  20:30-01:00  长龙航空 GJ8680   经停  20:25-00:50  "
      ]
     },
     "execution_count": 52,
     "metadata": {},
     "output_type": "execute_result"
    }
   ],
   "source": [
    "pd.concat([df[df.节省>df.价格],df[sta.abs()>3]])"
   ]
  },
  {
   "cell_type": "code",
   "execution_count": 53,
   "id": "86815a71",
   "metadata": {},
   "outputs": [],
   "source": [
    "drop_index = pd.concat([df[df.节省>df.价格],df[sta.abs()>3]]).index"
   ]
  },
  {
   "cell_type": "code",
   "execution_count": 54,
   "id": "1c0b5c97",
   "metadata": {},
   "outputs": [
    {
     "data": {
      "text/plain": [
       "(4996, 13)"
      ]
     },
     "execution_count": 54,
     "metadata": {},
     "output_type": "execute_result"
    }
   ],
   "source": [
    "df.drop(index=drop_index,inplace=True)\n",
    "df.shape"
   ]
  },
  {
   "cell_type": "markdown",
   "id": "8a420ec4",
   "metadata": {},
   "source": [
    "### 处理缺失值\n",
    "* df.isnull()\n",
    "* df.notnull()\n",
    "* df.dropna()\n",
    "* df.fillna()"
   ]
  },
  {
   "cell_type": "code",
   "execution_count": 55,
   "id": "5bf711b1",
   "metadata": {},
   "outputs": [
    {
     "data": {
      "text/plain": [
       "出发地      2\n",
       "目的地      1\n",
       "价格      28\n",
       "节省      17\n",
       "路线名      0\n",
       "酒店       0\n",
       "房间       0\n",
       "去程航司     0\n",
       "去程方式     0\n",
       "去程时间     0\n",
       "回程航司     0\n",
       "回程方式     0\n",
       "回程时间     0\n",
       "dtype: int64"
      ]
     },
     "execution_count": 55,
     "metadata": {},
     "output_type": "execute_result"
    }
   ],
   "source": [
    "#统计缺失值\n",
    "df.isnull().sum()"
   ]
  },
  {
   "cell_type": "code",
   "execution_count": 57,
   "id": "f4a2bdef",
   "metadata": {
    "scrolled": true
   },
   "outputs": [
    {
     "data": {
      "text/html": [
       "<div>\n",
       "<style scoped>\n",
       "    .dataframe tbody tr th:only-of-type {\n",
       "        vertical-align: middle;\n",
       "    }\n",
       "\n",
       "    .dataframe tbody tr th {\n",
       "        vertical-align: top;\n",
       "    }\n",
       "\n",
       "    .dataframe thead th {\n",
       "        text-align: right;\n",
       "    }\n",
       "</style>\n",
       "<table border=\"1\" class=\"dataframe\">\n",
       "  <thead>\n",
       "    <tr style=\"text-align: right;\">\n",
       "      <th></th>\n",
       "      <th>1850</th>\n",
       "      <th>1915</th>\n",
       "    </tr>\n",
       "  </thead>\n",
       "  <tbody>\n",
       "    <tr>\n",
       "      <th>出发地</th>\n",
       "      <td>NaN</td>\n",
       "      <td>NaN</td>\n",
       "    </tr>\n",
       "    <tr>\n",
       "      <th>目的地</th>\n",
       "      <td>烟台</td>\n",
       "      <td>西安</td>\n",
       "    </tr>\n",
       "    <tr>\n",
       "      <th>价格</th>\n",
       "      <td>647.0</td>\n",
       "      <td>1030.0</td>\n",
       "    </tr>\n",
       "    <tr>\n",
       "      <th>节省</th>\n",
       "      <td>348.0</td>\n",
       "      <td>326.0</td>\n",
       "    </tr>\n",
       "    <tr>\n",
       "      <th>路线名</th>\n",
       "      <td>大连-烟台3天2晚 | 入住烟台海阳黄金海岸大酒店 + 幸福航空/天津航空往返机票</td>\n",
       "      <td>济南-西安3天2晚 | 入住西安丝路秦国际青年旅舍钟楼回民街店 + 华夏航空往返...</td>\n",
       "    </tr>\n",
       "    <tr>\n",
       "      <th>酒店</th>\n",
       "      <td>烟台海阳黄金海岸大酒店 3.7分/5分</td>\n",
       "      <td>西安丝路秦国际青年旅舍钟楼回民街店 经济型 4.4分/5分</td>\n",
       "    </tr>\n",
       "    <tr>\n",
       "      <th>房间</th>\n",
       "      <td>海景标准间(内宾)[双... 双床 双早 1间2晚</td>\n",
       "      <td>标准间（独卫）-吃货天... 双床 不含早 1间2晚</td>\n",
       "    </tr>\n",
       "    <tr>\n",
       "      <th>去程航司</th>\n",
       "      <td>幸福航空 JR1582</td>\n",
       "      <td>华夏航空 G54963</td>\n",
       "    </tr>\n",
       "    <tr>\n",
       "      <th>去程方式</th>\n",
       "      <td>直飞</td>\n",
       "      <td>直飞</td>\n",
       "    </tr>\n",
       "    <tr>\n",
       "      <th>去程时间</th>\n",
       "      <td>10:05-11:05</td>\n",
       "      <td>07:10-08:55</td>\n",
       "    </tr>\n",
       "    <tr>\n",
       "      <th>回程航司</th>\n",
       "      <td>天津航空 GS6402</td>\n",
       "      <td>华夏航空 G58858</td>\n",
       "    </tr>\n",
       "    <tr>\n",
       "      <th>回程方式</th>\n",
       "      <td>直飞</td>\n",
       "      <td>直飞</td>\n",
       "    </tr>\n",
       "    <tr>\n",
       "      <th>回程时间</th>\n",
       "      <td>16:30-17:25</td>\n",
       "      <td>23:10-00:55</td>\n",
       "    </tr>\n",
       "  </tbody>\n",
       "</table>\n",
       "</div>"
      ],
      "text/plain": [
       "                                           1850  \\\n",
       "出发地                                         NaN   \n",
       "目的地                                          烟台   \n",
       "价格                                        647.0   \n",
       "节省                                        348.0   \n",
       "路线名   大连-烟台3天2晚 | 入住烟台海阳黄金海岸大酒店 + 幸福航空/天津航空往返机票   \n",
       "酒店                          烟台海阳黄金海岸大酒店 3.7分/5分   \n",
       "房间                    海景标准间(内宾)[双... 双床 双早 1间2晚   \n",
       "去程航司                                幸福航空 JR1582   \n",
       "去程方式                                         直飞   \n",
       "去程时间                                10:05-11:05   \n",
       "回程航司                                天津航空 GS6402   \n",
       "回程方式                                         直飞   \n",
       "回程时间                                16:30-17:25   \n",
       "\n",
       "                                             1915  \n",
       "出发地                                           NaN  \n",
       "目的地                                            西安  \n",
       "价格                                         1030.0  \n",
       "节省                                          326.0  \n",
       "路线名   济南-西安3天2晚 | 入住西安丝路秦国际青年旅舍钟楼回民街店 + 华夏航空往返...  \n",
       "酒店                  西安丝路秦国际青年旅舍钟楼回民街店 经济型 4.4分/5分  \n",
       "房间                     标准间（独卫）-吃货天... 双床 不含早 1间2晚  \n",
       "去程航司                                  华夏航空 G54963  \n",
       "去程方式                                           直飞  \n",
       "去程时间                                  07:10-08:55  \n",
       "回程航司                                  华夏航空 G58858  \n",
       "回程方式                                           直飞  \n",
       "回程时间                                  23:10-00:55  "
      ]
     },
     "execution_count": 57,
     "metadata": {},
     "output_type": "execute_result"
    }
   ],
   "source": [
    "df[df.出发地.isnull()].T"
   ]
  },
  {
   "cell_type": "code",
   "execution_count": 61,
   "id": "ccbcf5be",
   "metadata": {},
   "outputs": [
    {
     "data": {
      "text/plain": [
       "2"
      ]
     },
     "execution_count": 61,
     "metadata": {},
     "output_type": "execute_result"
    }
   ],
   "source": [
    "df.出发地.isnull().sum()"
   ]
  },
  {
   "cell_type": "code",
   "execution_count": 63,
   "id": "68138d07",
   "metadata": {},
   "outputs": [
    {
     "data": {
      "text/plain": [
       "1850      大连-烟台3天2晚 | 入住烟台海阳黄金海岸大酒店 + 幸福航空/天津航空往返机票\n",
       "1915    济南-西安3天2晚 | 入住西安丝路秦国际青年旅舍钟楼回民街店 + 华夏航空往返...\n",
       "Name: 路线名, dtype: object"
      ]
     },
     "execution_count": 63,
     "metadata": {},
     "output_type": "execute_result"
    }
   ],
   "source": [
    "df.loc[df.出发地.isnull(),'路线名']"
   ]
  },
  {
   "cell_type": "code",
   "execution_count": 64,
   "id": "508718fc",
   "metadata": {},
   "outputs": [],
   "source": [
    "#出发地为空，但是通过路线名知道出发地\n",
    "\n",
    "#df.出发地.isnull() 其实就是行索引，'出发地是列索引'\n",
    "df.loc[df.出发地.isnull(),'出发地'] = [str(x)[:2] for x in df.loc[df.出发地.isnull(),'路线名']]"
   ]
  },
  {
   "cell_type": "code",
   "execution_count": 65,
   "id": "1d8930c5",
   "metadata": {},
   "outputs": [
    {
     "data": {
      "text/html": [
       "<div>\n",
       "<style scoped>\n",
       "    .dataframe tbody tr th:only-of-type {\n",
       "        vertical-align: middle;\n",
       "    }\n",
       "\n",
       "    .dataframe tbody tr th {\n",
       "        vertical-align: top;\n",
       "    }\n",
       "\n",
       "    .dataframe thead th {\n",
       "        text-align: right;\n",
       "    }\n",
       "</style>\n",
       "<table border=\"1\" class=\"dataframe\">\n",
       "  <thead>\n",
       "    <tr style=\"text-align: right;\">\n",
       "      <th></th>\n",
       "      <th>出发地</th>\n",
       "      <th>目的地</th>\n",
       "      <th>价格</th>\n",
       "      <th>节省</th>\n",
       "      <th>路线名</th>\n",
       "      <th>酒店</th>\n",
       "      <th>房间</th>\n",
       "      <th>去程航司</th>\n",
       "      <th>去程方式</th>\n",
       "      <th>去程时间</th>\n",
       "      <th>回程航司</th>\n",
       "      <th>回程方式</th>\n",
       "      <th>回程时间</th>\n",
       "    </tr>\n",
       "  </thead>\n",
       "  <tbody>\n",
       "  </tbody>\n",
       "</table>\n",
       "</div>"
      ],
      "text/plain": [
       "Empty DataFrame\n",
       "Columns: [出发地, 目的地, 价格, 节省, 路线名, 酒店, 房间, 去程航司, 去程方式, 去程时间, 回程航司, 回程方式, 回程时间]\n",
       "Index: []"
      ]
     },
     "execution_count": 65,
     "metadata": {},
     "output_type": "execute_result"
    }
   ],
   "source": [
    "df.loc[df.出发地.isnull()]"
   ]
  },
  {
   "cell_type": "code",
   "execution_count": 68,
   "id": "dbb5a42b",
   "metadata": {},
   "outputs": [
    {
     "data": {
      "text/html": [
       "<div>\n",
       "<style scoped>\n",
       "    .dataframe tbody tr th:only-of-type {\n",
       "        vertical-align: middle;\n",
       "    }\n",
       "\n",
       "    .dataframe tbody tr th {\n",
       "        vertical-align: top;\n",
       "    }\n",
       "\n",
       "    .dataframe thead th {\n",
       "        text-align: right;\n",
       "    }\n",
       "</style>\n",
       "<table border=\"1\" class=\"dataframe\">\n",
       "  <thead>\n",
       "    <tr style=\"text-align: right;\">\n",
       "      <th></th>\n",
       "      <th>出发地</th>\n",
       "      <th>目的地</th>\n",
       "      <th>价格</th>\n",
       "      <th>节省</th>\n",
       "      <th>路线名</th>\n",
       "      <th>酒店</th>\n",
       "      <th>房间</th>\n",
       "      <th>去程航司</th>\n",
       "      <th>去程方式</th>\n",
       "      <th>去程时间</th>\n",
       "      <th>回程航司</th>\n",
       "      <th>回程方式</th>\n",
       "      <th>回程时间</th>\n",
       "    </tr>\n",
       "  </thead>\n",
       "  <tbody>\n",
       "    <tr>\n",
       "      <th>1860</th>\n",
       "      <td>深圳</td>\n",
       "      <td>NaN</td>\n",
       "      <td>2149.0</td>\n",
       "      <td>494.0</td>\n",
       "      <td>深圳-大连3天2晚 | 入住大连黄金山大酒店 + 南方航空/东海往返机票</td>\n",
       "      <td>大连黄金山大酒店 舒适型 3.4分/5分</td>\n",
       "      <td>标准间 大/双床 不含早 1间2晚</td>\n",
       "      <td>南方航空 CZ6833</td>\n",
       "      <td>直飞</td>\n",
       "      <td>09:10-12:40</td>\n",
       "      <td>东海 DZ6242</td>\n",
       "      <td>经停</td>\n",
       "      <td>12:40-18:00</td>\n",
       "    </tr>\n",
       "  </tbody>\n",
       "</table>\n",
       "</div>"
      ],
      "text/plain": [
       "     出发地  目的地      价格     节省                                   路线名  \\\n",
       "1860  深圳  NaN  2149.0  494.0  深圳-大连3天2晚 | 入住大连黄金山大酒店 + 南方航空/东海往返机票   \n",
       "\n",
       "                        酒店                 房间         去程航司 去程方式         去程时间  \\\n",
       "1860  大连黄金山大酒店 舒适型 3.4分/5分  标准间 大/双床 不含早 1间2晚  南方航空 CZ6833   直飞  09:10-12:40   \n",
       "\n",
       "           回程航司 回程方式         回程时间  \n",
       "1860  东海 DZ6242   经停  12:40-18:00  "
      ]
     },
     "execution_count": 68,
     "metadata": {},
     "output_type": "execute_result"
    }
   ],
   "source": [
    "df[df.目的地.isnull()]"
   ]
  },
  {
   "cell_type": "code",
   "execution_count": 77,
   "id": "2a36ca60",
   "metadata": {},
   "outputs": [
    {
     "data": {
      "text/plain": [
       "'大连'"
      ]
     },
     "execution_count": 77,
     "metadata": {},
     "output_type": "execute_result"
    }
   ],
   "source": [
    "str(df.loc[df.目的地.isnull(),'路线名'].values)[5:7]"
   ]
  },
  {
   "cell_type": "code",
   "execution_count": 79,
   "id": "80dfabc2",
   "metadata": {},
   "outputs": [
    {
     "data": {
      "text/html": [
       "<div>\n",
       "<style scoped>\n",
       "    .dataframe tbody tr th:only-of-type {\n",
       "        vertical-align: middle;\n",
       "    }\n",
       "\n",
       "    .dataframe tbody tr th {\n",
       "        vertical-align: top;\n",
       "    }\n",
       "\n",
       "    .dataframe thead th {\n",
       "        text-align: right;\n",
       "    }\n",
       "</style>\n",
       "<table border=\"1\" class=\"dataframe\">\n",
       "  <thead>\n",
       "    <tr style=\"text-align: right;\">\n",
       "      <th></th>\n",
       "      <th>出发地</th>\n",
       "      <th>目的地</th>\n",
       "      <th>价格</th>\n",
       "      <th>节省</th>\n",
       "      <th>路线名</th>\n",
       "      <th>酒店</th>\n",
       "      <th>房间</th>\n",
       "      <th>去程航司</th>\n",
       "      <th>去程方式</th>\n",
       "      <th>去程时间</th>\n",
       "      <th>回程航司</th>\n",
       "      <th>回程方式</th>\n",
       "      <th>回程时间</th>\n",
       "    </tr>\n",
       "  </thead>\n",
       "  <tbody>\n",
       "  </tbody>\n",
       "</table>\n",
       "</div>"
      ],
      "text/plain": [
       "Empty DataFrame\n",
       "Columns: [出发地, 目的地, 价格, 节省, 路线名, 酒店, 房间, 去程航司, 去程方式, 去程时间, 回程航司, 回程方式, 回程时间]\n",
       "Index: []"
      ]
     },
     "execution_count": 79,
     "metadata": {},
     "output_type": "execute_result"
    }
   ],
   "source": [
    "df.loc[df.目的地.isnull(),'目的地'] = str(df.loc[df.目的地.isnull(),'路线名'].values)[5:7]\n",
    "df[df.目的地.isnull()]"
   ]
  },
  {
   "cell_type": "code",
   "execution_count": 80,
   "id": "8c0e7eba",
   "metadata": {},
   "outputs": [
    {
     "data": {
      "text/plain": [
       "28"
      ]
     },
     "execution_count": 80,
     "metadata": {},
     "output_type": "execute_result"
    }
   ],
   "source": [
    "df['价格'].isnull().sum()"
   ]
  },
  {
   "cell_type": "code",
   "execution_count": 81,
   "id": "2441d7f5",
   "metadata": {},
   "outputs": [
    {
     "data": {
      "text/plain": [
       "17"
      ]
     },
     "execution_count": 81,
     "metadata": {},
     "output_type": "execute_result"
    }
   ],
   "source": [
    "df['节省'].isnull().sum()"
   ]
  },
  {
   "cell_type": "code",
   "execution_count": 82,
   "id": "fa7367d3",
   "metadata": {},
   "outputs": [],
   "source": [
    "#均值填充\n",
    "df['价格'].fillna(round(df['价格'].mean(),0),inplace=True)\n",
    "df['节省'].fillna(round(df['节省'].mean(),0),inplace=True)"
   ]
  },
  {
   "cell_type": "code",
   "execution_count": 83,
   "id": "b5868f4a",
   "metadata": {},
   "outputs": [
    {
     "data": {
      "text/plain": [
       "出发地     0\n",
       "目的地     0\n",
       "价格      0\n",
       "节省      0\n",
       "路线名     0\n",
       "酒店      0\n",
       "房间      0\n",
       "去程航司    0\n",
       "去程方式    0\n",
       "去程时间    0\n",
       "回程航司    0\n",
       "回程方式    0\n",
       "回程时间    0\n",
       "dtype: int64"
      ]
     },
     "execution_count": 83,
     "metadata": {},
     "output_type": "execute_result"
    }
   ],
   "source": [
    "df.isnull().sum()"
   ]
  },
  {
   "cell_type": "markdown",
   "id": "00391599",
   "metadata": {},
   "source": [
    "处理文本型数据"
   ]
  },
  {
   "cell_type": "code",
   "execution_count": 84,
   "id": "0262ebb0",
   "metadata": {},
   "outputs": [
    {
     "data": {
      "text/html": [
       "<div>\n",
       "<style scoped>\n",
       "    .dataframe tbody tr th:only-of-type {\n",
       "        vertical-align: middle;\n",
       "    }\n",
       "\n",
       "    .dataframe tbody tr th {\n",
       "        vertical-align: top;\n",
       "    }\n",
       "\n",
       "    .dataframe thead th {\n",
       "        text-align: right;\n",
       "    }\n",
       "</style>\n",
       "<table border=\"1\" class=\"dataframe\">\n",
       "  <thead>\n",
       "    <tr style=\"text-align: right;\">\n",
       "      <th></th>\n",
       "      <th>0</th>\n",
       "      <th>1</th>\n",
       "    </tr>\n",
       "  </thead>\n",
       "  <tbody>\n",
       "    <tr>\n",
       "      <th>出发地</th>\n",
       "      <td>哈尔滨</td>\n",
       "      <td>成都</td>\n",
       "    </tr>\n",
       "    <tr>\n",
       "      <th>目的地</th>\n",
       "      <td>北海</td>\n",
       "      <td>泸沽湖</td>\n",
       "    </tr>\n",
       "    <tr>\n",
       "      <th>价格</th>\n",
       "      <td>2208.0</td>\n",
       "      <td>1145.0</td>\n",
       "    </tr>\n",
       "    <tr>\n",
       "      <th>节省</th>\n",
       "      <td>650.0</td>\n",
       "      <td>376.0</td>\n",
       "    </tr>\n",
       "    <tr>\n",
       "      <th>路线名</th>\n",
       "      <td>哈尔滨-北海3天2晚 | 入住北海祥丰嘉年华大酒店 + 春秋航空往返机票</td>\n",
       "      <td>成都-泸沽湖3天2晚 | 入住7天酒店丽江古城中心店 + 成都航空往返机票</td>\n",
       "    </tr>\n",
       "    <tr>\n",
       "      <th>酒店</th>\n",
       "      <td>北海祥丰嘉年华大酒店 舒适型 4.7分/5分</td>\n",
       "      <td>7天酒店丽江古城中心店 经济型 4.0分/5分</td>\n",
       "    </tr>\n",
       "    <tr>\n",
       "      <th>房间</th>\n",
       "      <td>标准双人间(双床) 双床 不含早 1间2晚</td>\n",
       "      <td>经济房-不含早-限时特... 其他 不含早 1间2晚</td>\n",
       "    </tr>\n",
       "    <tr>\n",
       "      <th>去程航司</th>\n",
       "      <td>春秋航空 9C8741</td>\n",
       "      <td>成都航空 EU2237</td>\n",
       "    </tr>\n",
       "    <tr>\n",
       "      <th>去程方式</th>\n",
       "      <td>直飞</td>\n",
       "      <td>直飞</td>\n",
       "    </tr>\n",
       "    <tr>\n",
       "      <th>去程时间</th>\n",
       "      <td>17:10-21:50</td>\n",
       "      <td>19:45-21:20</td>\n",
       "    </tr>\n",
       "    <tr>\n",
       "      <th>回程航司</th>\n",
       "      <td>春秋航空 9C8742</td>\n",
       "      <td>成都航空 EU2738</td>\n",
       "    </tr>\n",
       "    <tr>\n",
       "      <th>回程方式</th>\n",
       "      <td>直飞</td>\n",
       "      <td>直飞</td>\n",
       "    </tr>\n",
       "    <tr>\n",
       "      <th>回程时间</th>\n",
       "      <td>10:20-15:05</td>\n",
       "      <td>23:30-01:05</td>\n",
       "    </tr>\n",
       "  </tbody>\n",
       "</table>\n",
       "</div>"
      ],
      "text/plain": [
       "                                         0  \\\n",
       "出发地                                    哈尔滨   \n",
       "目的地                                     北海   \n",
       "价格                                  2208.0   \n",
       "节省                                   650.0   \n",
       "路线名   哈尔滨-北海3天2晚 | 入住北海祥丰嘉年华大酒店 + 春秋航空往返机票   \n",
       "酒店                  北海祥丰嘉年华大酒店 舒适型 4.7分/5分   \n",
       "房间                   标准双人间(双床) 双床 不含早 1间2晚   \n",
       "去程航司                           春秋航空 9C8741   \n",
       "去程方式                                    直飞   \n",
       "去程时间                           17:10-21:50   \n",
       "回程航司                           春秋航空 9C8742   \n",
       "回程方式                                    直飞   \n",
       "回程时间                           10:20-15:05   \n",
       "\n",
       "                                          1  \n",
       "出发地                                      成都  \n",
       "目的地                                     泸沽湖  \n",
       "价格                                   1145.0  \n",
       "节省                                    376.0  \n",
       "路线名   成都-泸沽湖3天2晚 | 入住7天酒店丽江古城中心店 + 成都航空往返机票  \n",
       "酒店                  7天酒店丽江古城中心店 经济型 4.0分/5分  \n",
       "房间               经济房-不含早-限时特... 其他 不含早 1间2晚  \n",
       "去程航司                            成都航空 EU2237  \n",
       "去程方式                                     直飞  \n",
       "去程时间                            19:45-21:20  \n",
       "回程航司                            成都航空 EU2738  \n",
       "回程方式                                     直飞  \n",
       "回程时间                            23:30-01:05  "
      ]
     },
     "execution_count": 84,
     "metadata": {},
     "output_type": "execute_result"
    }
   ],
   "source": [
    "df.head(2).T"
   ]
  },
  {
   "cell_type": "code",
   "execution_count": 92,
   "id": "74087591",
   "metadata": {},
   "outputs": [
    {
     "data": {
      "text/plain": [
       "0       4.7\n",
       "1       4.0\n",
       "2       4.5\n",
       "3       4.6\n",
       "4       4.1\n",
       "       ... \n",
       "4995    4.3\n",
       "4996    4.6\n",
       "4997    4.5\n",
       "4998    4.0\n",
       "4999    4.0\n",
       "Name: 酒店评分, Length: 4996, dtype: object"
      ]
     },
     "execution_count": 92,
     "metadata": {},
     "output_type": "execute_result"
    }
   ],
   "source": [
    "df['酒店评分'] = df.酒店.str.extract('(\\d.\\d)分/5分',expand=False)\n",
    "df['酒店评分']"
   ]
  },
  {
   "cell_type": "code",
   "execution_count": 91,
   "id": "6186269f",
   "metadata": {},
   "outputs": [],
   "source": [
    "df['酒店类型'] =df.酒店.str.extract(' (.+?) ',expand=False)\n"
   ]
  },
  {
   "cell_type": "code",
   "execution_count": 99,
   "id": "662cbb0f",
   "metadata": {},
   "outputs": [
    {
     "data": {
      "text/plain": [
       "Int64Index([  13,   21,   25,   29,   36,   38,   40,   41,   46,   51,\n",
       "            ...\n",
       "            4924, 4942, 4945, 4946, 4956, 4957, 4961, 4976, 4982, 4993],\n",
       "           dtype='int64', length=969)"
      ]
     },
     "execution_count": 99,
     "metadata": {},
     "output_type": "execute_result"
    }
   ],
   "source": [
    "df[df['酒店类型'].isnull()].index"
   ]
  },
  {
   "cell_type": "code",
   "execution_count": 94,
   "id": "f17f81a6",
   "metadata": {},
   "outputs": [
    {
     "data": {
      "text/html": [
       "<div>\n",
       "<style scoped>\n",
       "    .dataframe tbody tr th:only-of-type {\n",
       "        vertical-align: middle;\n",
       "    }\n",
       "\n",
       "    .dataframe tbody tr th {\n",
       "        vertical-align: top;\n",
       "    }\n",
       "\n",
       "    .dataframe thead th {\n",
       "        text-align: right;\n",
       "    }\n",
       "</style>\n",
       "<table border=\"1\" class=\"dataframe\">\n",
       "  <thead>\n",
       "    <tr style=\"text-align: right;\">\n",
       "      <th></th>\n",
       "      <th>0</th>\n",
       "      <th>1</th>\n",
       "      <th>2</th>\n",
       "      <th>3</th>\n",
       "      <th>4</th>\n",
       "    </tr>\n",
       "  </thead>\n",
       "  <tbody>\n",
       "    <tr>\n",
       "      <th>出发地</th>\n",
       "      <td>哈尔滨</td>\n",
       "      <td>成都</td>\n",
       "      <td>广州</td>\n",
       "      <td>上海</td>\n",
       "      <td>广州</td>\n",
       "    </tr>\n",
       "    <tr>\n",
       "      <th>目的地</th>\n",
       "      <td>北海</td>\n",
       "      <td>泸沽湖</td>\n",
       "      <td>沈阳</td>\n",
       "      <td>九寨沟</td>\n",
       "      <td>天津</td>\n",
       "    </tr>\n",
       "    <tr>\n",
       "      <th>价格</th>\n",
       "      <td>2208.0</td>\n",
       "      <td>1145.0</td>\n",
       "      <td>2702.0</td>\n",
       "      <td>1954.0</td>\n",
       "      <td>1608.0</td>\n",
       "    </tr>\n",
       "    <tr>\n",
       "      <th>节省</th>\n",
       "      <td>650.0</td>\n",
       "      <td>376.0</td>\n",
       "      <td>618.0</td>\n",
       "      <td>484.0</td>\n",
       "      <td>422.0</td>\n",
       "    </tr>\n",
       "    <tr>\n",
       "      <th>路线名</th>\n",
       "      <td>哈尔滨-北海3天2晚 | 入住北海祥丰嘉年华大酒店 + 春秋航空往返机票</td>\n",
       "      <td>成都-泸沽湖3天2晚 | 入住7天酒店丽江古城中心店 + 成都航空往返机票</td>\n",
       "      <td>广州-沈阳3天2晚 | 入住沈阳中煤宾馆 + 南方航空/深圳航空往返机票</td>\n",
       "      <td>上海-九寨沟3天2晚 | 入住红原芸谊大酒店 + 成都航空往返机票</td>\n",
       "      <td>广州-天津3天2晚 | 入住天津逸海明珠大酒店 + 奥凯航空/海南航空往返机票</td>\n",
       "    </tr>\n",
       "    <tr>\n",
       "      <th>酒店</th>\n",
       "      <td>北海祥丰嘉年华大酒店 舒适型 4.7分/5分</td>\n",
       "      <td>7天酒店丽江古城中心店 经济型 4.0分/5分</td>\n",
       "      <td>沈阳中煤宾馆 舒适型 4.5分/5分</td>\n",
       "      <td>红原芸谊大酒店 舒适型 4.6分/5分</td>\n",
       "      <td>天津逸海明珠大酒店 高档型 4.1分/5分</td>\n",
       "    </tr>\n",
       "    <tr>\n",
       "      <th>房间</th>\n",
       "      <td>标准双人间(双床) 双床 不含早 1间2晚</td>\n",
       "      <td>经济房-不含早-限时特... 其他 不含早 1间2晚</td>\n",
       "      <td>大床间(内宾) 大床 双早 1间2晚</td>\n",
       "      <td>豪华双床房[双早] 双床 双早 1间2晚</td>\n",
       "      <td>豪华双床房(预付) 双床 不含早 1间2晚</td>\n",
       "    </tr>\n",
       "    <tr>\n",
       "      <th>去程航司</th>\n",
       "      <td>春秋航空 9C8741</td>\n",
       "      <td>成都航空 EU2237</td>\n",
       "      <td>南方航空 CZ6384</td>\n",
       "      <td>成都航空 EU6678</td>\n",
       "      <td>奥凯航空 BK2787</td>\n",
       "    </tr>\n",
       "    <tr>\n",
       "      <th>去程方式</th>\n",
       "      <td>直飞</td>\n",
       "      <td>直飞</td>\n",
       "      <td>直飞</td>\n",
       "      <td>直飞</td>\n",
       "      <td>直飞</td>\n",
       "    </tr>\n",
       "    <tr>\n",
       "      <th>去程时间</th>\n",
       "      <td>17:10-21:50</td>\n",
       "      <td>19:45-21:20</td>\n",
       "      <td>08:05-11:45</td>\n",
       "      <td>21:55-01:15</td>\n",
       "      <td>06:55-10:00</td>\n",
       "    </tr>\n",
       "    <tr>\n",
       "      <th>回程航司</th>\n",
       "      <td>春秋航空 9C8742</td>\n",
       "      <td>成都航空 EU2738</td>\n",
       "      <td>深圳航空 ZH9652</td>\n",
       "      <td>成都航空 EU6677</td>\n",
       "      <td>海南航空 HU7201</td>\n",
       "    </tr>\n",
       "    <tr>\n",
       "      <th>回程方式</th>\n",
       "      <td>直飞</td>\n",
       "      <td>直飞</td>\n",
       "      <td>经停</td>\n",
       "      <td>直飞</td>\n",
       "      <td>直飞</td>\n",
       "    </tr>\n",
       "    <tr>\n",
       "      <th>回程时间</th>\n",
       "      <td>10:20-15:05</td>\n",
       "      <td>23:30-01:05</td>\n",
       "      <td>08:20-13:05</td>\n",
       "      <td>17:45-20:35</td>\n",
       "      <td>20:15-23:25</td>\n",
       "    </tr>\n",
       "    <tr>\n",
       "      <th>酒店评分</th>\n",
       "      <td>4.7</td>\n",
       "      <td>4.0</td>\n",
       "      <td>4.5</td>\n",
       "      <td>4.6</td>\n",
       "      <td>4.1</td>\n",
       "    </tr>\n",
       "    <tr>\n",
       "      <th>酒店类型</th>\n",
       "      <td>舒适型</td>\n",
       "      <td>经济型</td>\n",
       "      <td>舒适型</td>\n",
       "      <td>舒适型</td>\n",
       "      <td>高档型</td>\n",
       "    </tr>\n",
       "  </tbody>\n",
       "</table>\n",
       "</div>"
      ],
      "text/plain": [
       "                                         0  \\\n",
       "出发地                                    哈尔滨   \n",
       "目的地                                     北海   \n",
       "价格                                  2208.0   \n",
       "节省                                   650.0   \n",
       "路线名   哈尔滨-北海3天2晚 | 入住北海祥丰嘉年华大酒店 + 春秋航空往返机票   \n",
       "酒店                  北海祥丰嘉年华大酒店 舒适型 4.7分/5分   \n",
       "房间                   标准双人间(双床) 双床 不含早 1间2晚   \n",
       "去程航司                           春秋航空 9C8741   \n",
       "去程方式                                    直飞   \n",
       "去程时间                           17:10-21:50   \n",
       "回程航司                           春秋航空 9C8742   \n",
       "回程方式                                    直飞   \n",
       "回程时间                           10:20-15:05   \n",
       "酒店评分                                   4.7   \n",
       "酒店类型                                   舒适型   \n",
       "\n",
       "                                          1  \\\n",
       "出发地                                      成都   \n",
       "目的地                                     泸沽湖   \n",
       "价格                                   1145.0   \n",
       "节省                                    376.0   \n",
       "路线名   成都-泸沽湖3天2晚 | 入住7天酒店丽江古城中心店 + 成都航空往返机票   \n",
       "酒店                  7天酒店丽江古城中心店 经济型 4.0分/5分   \n",
       "房间               经济房-不含早-限时特... 其他 不含早 1间2晚   \n",
       "去程航司                            成都航空 EU2237   \n",
       "去程方式                                     直飞   \n",
       "去程时间                            19:45-21:20   \n",
       "回程航司                            成都航空 EU2738   \n",
       "回程方式                                     直飞   \n",
       "回程时间                            23:30-01:05   \n",
       "酒店评分                                    4.0   \n",
       "酒店类型                                    经济型   \n",
       "\n",
       "                                         2                                  3  \\\n",
       "出发地                                     广州                                 上海   \n",
       "目的地                                     沈阳                                九寨沟   \n",
       "价格                                  2702.0                             1954.0   \n",
       "节省                                   618.0                              484.0   \n",
       "路线名   广州-沈阳3天2晚 | 入住沈阳中煤宾馆 + 南方航空/深圳航空往返机票  上海-九寨沟3天2晚 | 入住红原芸谊大酒店 + 成都航空往返机票   \n",
       "酒店                      沈阳中煤宾馆 舒适型 4.5分/5分                红原芸谊大酒店 舒适型 4.6分/5分   \n",
       "房间                      大床间(内宾) 大床 双早 1间2晚               豪华双床房[双早] 双床 双早 1间2晚   \n",
       "去程航司                           南方航空 CZ6384                        成都航空 EU6678   \n",
       "去程方式                                    直飞                                 直飞   \n",
       "去程时间                           08:05-11:45                        21:55-01:15   \n",
       "回程航司                           深圳航空 ZH9652                        成都航空 EU6677   \n",
       "回程方式                                    经停                                 直飞   \n",
       "回程时间                           08:20-13:05                        17:45-20:35   \n",
       "酒店评分                                   4.5                                4.6   \n",
       "酒店类型                                   舒适型                                舒适型   \n",
       "\n",
       "                                            4  \n",
       "出发地                                        广州  \n",
       "目的地                                        天津  \n",
       "价格                                     1608.0  \n",
       "节省                                      422.0  \n",
       "路线名   广州-天津3天2晚 | 入住天津逸海明珠大酒店 + 奥凯航空/海南航空往返机票  \n",
       "酒店                      天津逸海明珠大酒店 高档型 4.1分/5分  \n",
       "房间                      豪华双床房(预付) 双床 不含早 1间2晚  \n",
       "去程航司                              奥凯航空 BK2787  \n",
       "去程方式                                       直飞  \n",
       "去程时间                              06:55-10:00  \n",
       "回程航司                              海南航空 HU7201  \n",
       "回程方式                                       直飞  \n",
       "回程时间                              20:15-23:25  \n",
       "酒店评分                                      4.1  \n",
       "酒店类型                                      高档型  "
      ]
     },
     "execution_count": 94,
     "metadata": {},
     "output_type": "execute_result"
    }
   ],
   "source": [
    "df.head().T"
   ]
  },
  {
   "cell_type": "code",
   "execution_count": null,
   "id": "c04dbf49",
   "metadata": {},
   "outputs": [],
   "source": []
  }
 ],
 "metadata": {
  "kernelspec": {
   "display_name": "Python 3",
   "language": "python",
   "name": "python3"
  },
  "language_info": {
   "codemirror_mode": {
    "name": "ipython",
    "version": 3
   },
   "file_extension": ".py",
   "mimetype": "text/x-python",
   "name": "python",
   "nbconvert_exporter": "python",
   "pygments_lexer": "ipython3",
   "version": "3.8.8"
  }
 },
 "nbformat": 4,
 "nbformat_minor": 5
}
