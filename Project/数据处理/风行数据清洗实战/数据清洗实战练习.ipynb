{
 "cells": [
  {
   "cell_type": "code",
   "execution_count": null,
   "id": "ecae717c",
   "metadata": {},
   "outputs": [],
   "source": [
    "import pandas as pd\n",
    "import os\n",
    "\n",
    "path = 'C:/Users/86183/Desktop/第八周'   #设置csv所在文件夹\n",
    "files = os.listdir(path)  #获取文件夹下所有文件名\n",
    "\n",
    "df1 = pd.read_csv(path + '/' + files[0],encoding='utf8')#取首个csv文件，保存到df1中\n",
    "\n",
    "for file in files[1:8]:    \n",
    "    df2= pd.read_csv(path +'/' +  file,encoding='utf8')#开csv文件，注意编码问题，保存到df2中\n",
    "    df1= pd.concat([df1,df2],axis=0,ignore_index=True)  #将df2数据与df1合并\n",
    "df1 = df1.drop_duplicates()   #去重\n",
    "df1 = df1.reset_index(drop=True) #重新生成index\n",
    "df1.to_csv(path + '/' + 'total1.csv') #将结果保存为新的csv文件\n"
   ]
  },
  {
   "cell_type": "code",
   "execution_count": 79,
   "id": "d53255ff",
   "metadata": {},
   "outputs": [
    {
     "data": {
      "text/html": [
       "<div>\n",
       "<style scoped>\n",
       "    .dataframe tbody tr th:only-of-type {\n",
       "        vertical-align: middle;\n",
       "    }\n",
       "\n",
       "    .dataframe tbody tr th {\n",
       "        vertical-align: top;\n",
       "    }\n",
       "\n",
       "    .dataframe thead th {\n",
       "        text-align: right;\n",
       "    }\n",
       "</style>\n",
       "<table border=\"1\" class=\"dataframe\">\n",
       "  <thead>\n",
       "    <tr style=\"text-align: right;\">\n",
       "      <th></th>\n",
       "      <th>价格</th>\n",
       "      <th>面积</th>\n",
       "      <th>编号</th>\n",
       "      <th>户型</th>\n",
       "      <th>楼层</th>\n",
       "      <th>位置1</th>\n",
       "      <th>位置2</th>\n",
       "      <th>小区</th>\n",
       "      <th>地铁</th>\n",
       "    </tr>\n",
       "  </thead>\n",
       "  <tbody>\n",
       "    <tr>\n",
       "      <th>0</th>\n",
       "      <td>2380.0</td>\n",
       "      <td>11.0</td>\n",
       "      <td>50952-D</td>\n",
       "      <td>4室1卫</td>\n",
       "      <td>1/10层</td>\n",
       "      <td>丰台区</td>\n",
       "      <td>公益西桥</td>\n",
       "      <td>城南嘉园益嘉园</td>\n",
       "      <td>地铁：距4号线大兴线公益西桥站500米</td>\n",
       "    </tr>\n",
       "    <tr>\n",
       "      <th>1</th>\n",
       "      <td>2710.0</td>\n",
       "      <td>9.0</td>\n",
       "      <td>20870-A</td>\n",
       "      <td>2室1卫</td>\n",
       "      <td>21/28层</td>\n",
       "      <td>丰台区</td>\n",
       "      <td>西铁营</td>\n",
       "      <td>亚林西居住区</td>\n",
       "      <td>地铁：距14号线东段西铁营站450米</td>\n",
       "    </tr>\n",
       "    <tr>\n",
       "      <th>2</th>\n",
       "      <td>2300.0</td>\n",
       "      <td>13.0</td>\n",
       "      <td>20039-A</td>\n",
       "      <td>4室1卫</td>\n",
       "      <td>19/24层</td>\n",
       "      <td>丰台区</td>\n",
       "      <td>樊羊路</td>\n",
       "      <td>花香东苑</td>\n",
       "      <td>地铁：距房山线樊羊路站450米</td>\n",
       "    </tr>\n",
       "    <tr>\n",
       "      <th>3</th>\n",
       "      <td>2980.0</td>\n",
       "      <td>5.0</td>\n",
       "      <td>66407-A</td>\n",
       "      <td>2室1卫</td>\n",
       "      <td>12/24层</td>\n",
       "      <td>海淀区</td>\n",
       "      <td>车道沟</td>\n",
       "      <td>半壁街南路1号院</td>\n",
       "      <td>地铁：距10号线车道沟站650米</td>\n",
       "    </tr>\n",
       "    <tr>\n",
       "      <th>4</th>\n",
       "      <td>2860.0</td>\n",
       "      <td>16.0</td>\n",
       "      <td>78687-A</td>\n",
       "      <td>4室1卫</td>\n",
       "      <td>3/6层</td>\n",
       "      <td>东城区</td>\n",
       "      <td>陶然桥</td>\n",
       "      <td>西罗园北路15号</td>\n",
       "      <td>地铁：距14号线东段陶然桥站600米</td>\n",
       "    </tr>\n",
       "  </tbody>\n",
       "</table>\n",
       "</div>"
      ],
      "text/plain": [
       "       价格    面积       编号    户型      楼层  位置1   位置2        小区  \\\n",
       "0  2380.0  11.0  50952-D  4室1卫   1/10层  丰台区  公益西桥   城南嘉园益嘉园   \n",
       "1  2710.0   9.0  20870-A  2室1卫  21/28层  丰台区   西铁营    亚林西居住区   \n",
       "2  2300.0  13.0  20039-A  4室1卫  19/24层  丰台区   樊羊路      花香东苑   \n",
       "3  2980.0   5.0  66407-A  2室1卫  12/24层  海淀区   车道沟  半壁街南路1号院   \n",
       "4  2860.0  16.0  78687-A  4室1卫    3/6层  东城区   陶然桥  西罗园北路15号   \n",
       "\n",
       "                    地铁  \n",
       "0  地铁：距4号线大兴线公益西桥站500米  \n",
       "1   地铁：距14号线东段西铁营站450米  \n",
       "2      地铁：距房山线樊羊路站450米  \n",
       "3     地铁：距10号线车道沟站650米  \n",
       "4   地铁：距14号线东段陶然桥站600米  "
      ]
     },
     "execution_count": 79,
     "metadata": {},
     "output_type": "execute_result"
    }
   ],
   "source": [
    "import pandas as pd\n",
    "df0 = pd.read_csv(r'D:\\360Downloads\\数据处理练习数据\\house_0.csv')\n",
    "df1 = pd.read_csv(r'D:\\360Downloads\\数据处理练习数据\\house_1.csv')\n",
    "df2 = pd.read_csv(r'D:\\360Downloads\\数据处理练习数据\\house_2.csv')\n",
    "df3 = pd.read_csv(r'D:\\360Downloads\\数据处理练习数据\\house_3.csv')\n",
    "df4 = pd.read_csv(r'D:\\360Downloads\\数据处理练习数据\\house_4.csv')\n",
    "df5 = pd.read_csv(r'D:\\360Downloads\\数据处理练习数据\\house_5.csv')\n",
    "df6 = pd.read_csv(r'D:\\360Downloads\\数据处理练习数据\\house_6.csv')\n",
    "df7 = pd.read_csv(r'D:\\360Downloads\\数据处理练习数据\\house_7.csv')\n",
    "df = pd.concat([df0,df1,df2,df3,df4,df5,df6,df7],ignore_index=True)\n",
    "df.head()"
   ]
  },
  {
   "cell_type": "code",
   "execution_count": 80,
   "id": "fce41a29",
   "metadata": {},
   "outputs": [
    {
     "data": {
      "text/plain": [
       "(7697, 9)"
      ]
     },
     "execution_count": 80,
     "metadata": {},
     "output_type": "execute_result"
    }
   ],
   "source": [
    "df.shape"
   ]
  },
  {
   "cell_type": "code",
   "execution_count": 81,
   "id": "98a33435",
   "metadata": {},
   "outputs": [
    {
     "name": "stdout",
     "output_type": "stream",
     "text": [
      "<class 'pandas.core.frame.DataFrame'>\n",
      "RangeIndex: 7697 entries, 0 to 7696\n",
      "Data columns (total 9 columns):\n",
      " #   Column  Non-Null Count  Dtype \n",
      "---  ------  --------------  ----- \n",
      " 0   价格      6602 non-null   object\n",
      " 1   面积      6602 non-null   object\n",
      " 2   编号      6602 non-null   object\n",
      " 3   户型      6602 non-null   object\n",
      " 4   楼层      6602 non-null   object\n",
      " 5   位置1     6602 non-null   object\n",
      " 6   位置2     6602 non-null   object\n",
      " 7   小区      6602 non-null   object\n",
      " 8   地铁      6602 non-null   object\n",
      "dtypes: object(9)\n",
      "memory usage: 541.3+ KB\n"
     ]
    }
   ],
   "source": [
    "df.info()"
   ]
  },
  {
   "cell_type": "code",
   "execution_count": 92,
   "id": "71d35e63",
   "metadata": {},
   "outputs": [
    {
     "data": {
      "text/plain": [
       "价格     1095\n",
       "面积     1095\n",
       "编号     1095\n",
       "户型     1095\n",
       "楼层     1095\n",
       "位置1    1095\n",
       "位置2    1095\n",
       "小区     1095\n",
       "地铁     1095\n",
       "dtype: int64"
      ]
     },
     "execution_count": 92,
     "metadata": {},
     "output_type": "execute_result"
    }
   ],
   "source": [
    "df.isnull().sum()"
   ]
  },
  {
   "cell_type": "code",
   "execution_count": 50,
   "id": "6fc60d1d",
   "metadata": {
    "scrolled": true
   },
   "outputs": [
    {
     "data": {
      "text/html": [
       "<div>\n",
       "<style scoped>\n",
       "    .dataframe tbody tr th:only-of-type {\n",
       "        vertical-align: middle;\n",
       "    }\n",
       "\n",
       "    .dataframe tbody tr th {\n",
       "        vertical-align: top;\n",
       "    }\n",
       "\n",
       "    .dataframe thead th {\n",
       "        text-align: right;\n",
       "    }\n",
       "</style>\n",
       "<table border=\"1\" class=\"dataframe\">\n",
       "  <thead>\n",
       "    <tr style=\"text-align: right;\">\n",
       "      <th></th>\n",
       "      <th>价格</th>\n",
       "      <th>面积</th>\n",
       "      <th>编号</th>\n",
       "      <th>户型</th>\n",
       "      <th>楼层</th>\n",
       "      <th>位置1</th>\n",
       "      <th>位置2</th>\n",
       "      <th>小区</th>\n",
       "      <th>地铁</th>\n",
       "    </tr>\n",
       "  </thead>\n",
       "  <tbody>\n",
       "    <tr>\n",
       "      <th>56</th>\n",
       "      <td>NaN</td>\n",
       "      <td>NaN</td>\n",
       "      <td>NaN</td>\n",
       "      <td>NaN</td>\n",
       "      <td>NaN</td>\n",
       "      <td>NaN</td>\n",
       "      <td>NaN</td>\n",
       "      <td>NaN</td>\n",
       "      <td>NaN</td>\n",
       "    </tr>\n",
       "    <tr>\n",
       "      <th>94</th>\n",
       "      <td>NaN</td>\n",
       "      <td>NaN</td>\n",
       "      <td>NaN</td>\n",
       "      <td>NaN</td>\n",
       "      <td>NaN</td>\n",
       "      <td>NaN</td>\n",
       "      <td>NaN</td>\n",
       "      <td>NaN</td>\n",
       "      <td>NaN</td>\n",
       "    </tr>\n",
       "    <tr>\n",
       "      <th>133</th>\n",
       "      <td>NaN</td>\n",
       "      <td>NaN</td>\n",
       "      <td>NaN</td>\n",
       "      <td>NaN</td>\n",
       "      <td>NaN</td>\n",
       "      <td>NaN</td>\n",
       "      <td>NaN</td>\n",
       "      <td>NaN</td>\n",
       "      <td>NaN</td>\n",
       "    </tr>\n",
       "    <tr>\n",
       "      <th>159</th>\n",
       "      <td>NaN</td>\n",
       "      <td>NaN</td>\n",
       "      <td>NaN</td>\n",
       "      <td>NaN</td>\n",
       "      <td>NaN</td>\n",
       "      <td>NaN</td>\n",
       "      <td>NaN</td>\n",
       "      <td>NaN</td>\n",
       "      <td>NaN</td>\n",
       "    </tr>\n",
       "    <tr>\n",
       "      <th>190</th>\n",
       "      <td>NaN</td>\n",
       "      <td>NaN</td>\n",
       "      <td>NaN</td>\n",
       "      <td>NaN</td>\n",
       "      <td>NaN</td>\n",
       "      <td>NaN</td>\n",
       "      <td>NaN</td>\n",
       "      <td>NaN</td>\n",
       "      <td>NaN</td>\n",
       "    </tr>\n",
       "    <tr>\n",
       "      <th>...</th>\n",
       "      <td>...</td>\n",
       "      <td>...</td>\n",
       "      <td>...</td>\n",
       "      <td>...</td>\n",
       "      <td>...</td>\n",
       "      <td>...</td>\n",
       "      <td>...</td>\n",
       "      <td>...</td>\n",
       "      <td>...</td>\n",
       "    </tr>\n",
       "    <tr>\n",
       "      <th>713</th>\n",
       "      <td>NaN</td>\n",
       "      <td>NaN</td>\n",
       "      <td>NaN</td>\n",
       "      <td>NaN</td>\n",
       "      <td>NaN</td>\n",
       "      <td>NaN</td>\n",
       "      <td>NaN</td>\n",
       "      <td>NaN</td>\n",
       "      <td>NaN</td>\n",
       "    </tr>\n",
       "    <tr>\n",
       "      <th>714</th>\n",
       "      <td>NaN</td>\n",
       "      <td>NaN</td>\n",
       "      <td>NaN</td>\n",
       "      <td>NaN</td>\n",
       "      <td>NaN</td>\n",
       "      <td>NaN</td>\n",
       "      <td>NaN</td>\n",
       "      <td>NaN</td>\n",
       "      <td>NaN</td>\n",
       "    </tr>\n",
       "    <tr>\n",
       "      <th>715</th>\n",
       "      <td>NaN</td>\n",
       "      <td>NaN</td>\n",
       "      <td>NaN</td>\n",
       "      <td>NaN</td>\n",
       "      <td>NaN</td>\n",
       "      <td>NaN</td>\n",
       "      <td>NaN</td>\n",
       "      <td>NaN</td>\n",
       "      <td>NaN</td>\n",
       "    </tr>\n",
       "    <tr>\n",
       "      <th>716</th>\n",
       "      <td>NaN</td>\n",
       "      <td>NaN</td>\n",
       "      <td>NaN</td>\n",
       "      <td>NaN</td>\n",
       "      <td>NaN</td>\n",
       "      <td>NaN</td>\n",
       "      <td>NaN</td>\n",
       "      <td>NaN</td>\n",
       "      <td>NaN</td>\n",
       "    </tr>\n",
       "    <tr>\n",
       "      <th>717</th>\n",
       "      <td>NaN</td>\n",
       "      <td>NaN</td>\n",
       "      <td>NaN</td>\n",
       "      <td>NaN</td>\n",
       "      <td>NaN</td>\n",
       "      <td>NaN</td>\n",
       "      <td>NaN</td>\n",
       "      <td>NaN</td>\n",
       "      <td>NaN</td>\n",
       "    </tr>\n",
       "  </tbody>\n",
       "</table>\n",
       "<p>1095 rows × 9 columns</p>\n",
       "</div>"
      ],
      "text/plain": [
       "      价格   面积   编号   户型   楼层  位置1  位置2   小区   地铁\n",
       "56   NaN  NaN  NaN  NaN  NaN  NaN  NaN  NaN  NaN\n",
       "94   NaN  NaN  NaN  NaN  NaN  NaN  NaN  NaN  NaN\n",
       "133  NaN  NaN  NaN  NaN  NaN  NaN  NaN  NaN  NaN\n",
       "159  NaN  NaN  NaN  NaN  NaN  NaN  NaN  NaN  NaN\n",
       "190  NaN  NaN  NaN  NaN  NaN  NaN  NaN  NaN  NaN\n",
       "..   ...  ...  ...  ...  ...  ...  ...  ...  ...\n",
       "713  NaN  NaN  NaN  NaN  NaN  NaN  NaN  NaN  NaN\n",
       "714  NaN  NaN  NaN  NaN  NaN  NaN  NaN  NaN  NaN\n",
       "715  NaN  NaN  NaN  NaN  NaN  NaN  NaN  NaN  NaN\n",
       "716  NaN  NaN  NaN  NaN  NaN  NaN  NaN  NaN  NaN\n",
       "717  NaN  NaN  NaN  NaN  NaN  NaN  NaN  NaN  NaN\n",
       "\n",
       "[1095 rows x 9 columns]"
      ]
     },
     "execution_count": 50,
     "metadata": {},
     "output_type": "execute_result"
    }
   ],
   "source": [
    "df[df.价格.isnull()]"
   ]
  },
  {
   "cell_type": "code",
   "execution_count": 12,
   "id": "cdd89b18",
   "metadata": {},
   "outputs": [],
   "source": [
    "drop_index = df[df.价格.isnull()].index\n",
    "df.drop(index=drop_index,inplace=True)"
   ]
  },
  {
   "cell_type": "code",
   "execution_count": 76,
   "id": "96521694",
   "metadata": {},
   "outputs": [
    {
     "data": {
      "text/plain": [
       "0"
      ]
     },
     "execution_count": 76,
     "metadata": {},
     "output_type": "execute_result"
    }
   ],
   "source": [
    "df.价格.isnull().sum()"
   ]
  },
  {
   "cell_type": "code",
   "execution_count": 13,
   "id": "aa59db4a",
   "metadata": {},
   "outputs": [
    {
     "data": {
      "text/plain": [
       "Index(['价格', '面积', '编号', '户型', '楼层', '位置1', '位置2', '小区', '地铁'], dtype='object')"
      ]
     },
     "execution_count": 13,
     "metadata": {},
     "output_type": "execute_result"
    }
   ],
   "source": [
    "df.isnull().columns"
   ]
  },
  {
   "cell_type": "code",
   "execution_count": 26,
   "id": "04d8b5b6",
   "metadata": {},
   "outputs": [
    {
     "data": {
      "text/plain": [
       "0"
      ]
     },
     "execution_count": 26,
     "metadata": {},
     "output_type": "execute_result"
    }
   ],
   "source": [
    "df['编号'].isnull().sum()"
   ]
  },
  {
   "cell_type": "code",
   "execution_count": 93,
   "id": "686271f6",
   "metadata": {},
   "outputs": [
    {
     "data": {
      "text/plain": [
       "价格     0\n",
       "面积     0\n",
       "编号     0\n",
       "户型     0\n",
       "楼层     0\n",
       "位置1    0\n",
       "位置2    0\n",
       "小区     0\n",
       "地铁     0\n",
       "dtype: int64"
      ]
     },
     "execution_count": 93,
     "metadata": {},
     "output_type": "execute_result"
    }
   ],
   "source": [
    "drop_col = ['价格','面积', '编号', '户型', '楼层', '位置1', '位置2', '小区', '地铁'] \n",
    "for i in drop_col:\n",
    "    drop_index = df[df[i].isnull()].index\n",
    "    df.drop(index=drop_index,inplace=True)\n",
    "df.isnull().sum()"
   ]
  },
  {
   "cell_type": "code",
   "execution_count": 94,
   "id": "68006383",
   "metadata": {},
   "outputs": [
    {
     "name": "stdout",
     "output_type": "stream",
     "text": [
      "<class 'pandas.core.frame.DataFrame'>\n",
      "Int64Index: 6602 entries, 0 to 7689\n",
      "Data columns (total 9 columns):\n",
      " #   Column  Non-Null Count  Dtype \n",
      "---  ------  --------------  ----- \n",
      " 0   价格      6602 non-null   object\n",
      " 1   面积      6602 non-null   object\n",
      " 2   编号      6602 non-null   object\n",
      " 3   户型      6602 non-null   object\n",
      " 4   楼层      6602 non-null   object\n",
      " 5   位置1     6602 non-null   object\n",
      " 6   位置2     6602 non-null   object\n",
      " 7   小区      6602 non-null   object\n",
      " 8   地铁      6602 non-null   object\n",
      "dtypes: object(9)\n",
      "memory usage: 773.8+ KB\n"
     ]
    }
   ],
   "source": [
    "df.info()"
   ]
  },
  {
   "cell_type": "code",
   "execution_count": 107,
   "id": "eea05a85",
   "metadata": {},
   "outputs": [
    {
     "data": {
      "text/plain": [
       "价格      价格\n",
       "面积      面积\n",
       "编号      编号\n",
       "户型      户型\n",
       "楼层      楼层\n",
       "位置1    位置1\n",
       "位置2    位置2\n",
       "小区      小区\n",
       "地铁      地铁\n",
       "Name: 2281, dtype: object"
      ]
     },
     "execution_count": 107,
     "metadata": {},
     "output_type": "execute_result"
    }
   ],
   "source": [
    "df.iloc[2208]"
   ]
  },
  {
   "cell_type": "code",
   "execution_count": 108,
   "id": "cb6c2227",
   "metadata": {
    "scrolled": true
   },
   "outputs": [],
   "source": [
    "df.drop(index= 2208,inplace=True)"
   ]
  },
  {
   "cell_type": "code",
   "execution_count": 96,
   "id": "3368a1e5",
   "metadata": {},
   "outputs": [
    {
     "data": {
      "text/html": [
       "<div>\n",
       "<style scoped>\n",
       "    .dataframe tbody tr th:only-of-type {\n",
       "        vertical-align: middle;\n",
       "    }\n",
       "\n",
       "    .dataframe tbody tr th {\n",
       "        vertical-align: top;\n",
       "    }\n",
       "\n",
       "    .dataframe thead th {\n",
       "        text-align: right;\n",
       "    }\n",
       "</style>\n",
       "<table border=\"1\" class=\"dataframe\">\n",
       "  <thead>\n",
       "    <tr style=\"text-align: right;\">\n",
       "      <th></th>\n",
       "      <th>价格</th>\n",
       "      <th>面积</th>\n",
       "      <th>编号</th>\n",
       "      <th>户型</th>\n",
       "      <th>楼层</th>\n",
       "      <th>位置1</th>\n",
       "      <th>位置2</th>\n",
       "      <th>小区</th>\n",
       "      <th>地铁</th>\n",
       "    </tr>\n",
       "  </thead>\n",
       "  <tbody>\n",
       "    <tr>\n",
       "      <th>count</th>\n",
       "      <td>6602.0</td>\n",
       "      <td>6602.0</td>\n",
       "      <td>6602</td>\n",
       "      <td>6602</td>\n",
       "      <td>6602</td>\n",
       "      <td>6602</td>\n",
       "      <td>6602</td>\n",
       "      <td>6602</td>\n",
       "      <td>6602</td>\n",
       "    </tr>\n",
       "    <tr>\n",
       "      <th>unique</th>\n",
       "      <td>884.0</td>\n",
       "      <td>167.0</td>\n",
       "      <td>5542</td>\n",
       "      <td>22</td>\n",
       "      <td>499</td>\n",
       "      <td>13</td>\n",
       "      <td>290</td>\n",
       "      <td>1840</td>\n",
       "      <td>1547</td>\n",
       "    </tr>\n",
       "    <tr>\n",
       "      <th>top</th>\n",
       "      <td>2400.0</td>\n",
       "      <td>10.0</td>\n",
       "      <td>编号</td>\n",
       "      <td>3室1卫</td>\n",
       "      <td>4/6层</td>\n",
       "      <td>朝阳区</td>\n",
       "      <td>通州北关</td>\n",
       "      <td>新建村小区</td>\n",
       "      <td>地铁：距6号线物资学院路站550米</td>\n",
       "    </tr>\n",
       "    <tr>\n",
       "      <th>freq</th>\n",
       "      <td>41.0</td>\n",
       "      <td>551.0</td>\n",
       "      <td>7</td>\n",
       "      <td>3027</td>\n",
       "      <td>497</td>\n",
       "      <td>2045</td>\n",
       "      <td>223</td>\n",
       "      <td>59</td>\n",
       "      <td>78</td>\n",
       "    </tr>\n",
       "  </tbody>\n",
       "</table>\n",
       "</div>"
      ],
      "text/plain": [
       "            价格      面积    编号    户型    楼层   位置1   位置2     小区                 地铁\n",
       "count   6602.0  6602.0  6602  6602  6602  6602  6602   6602               6602\n",
       "unique   884.0   167.0  5542    22   499    13   290   1840               1547\n",
       "top     2400.0    10.0    编号  3室1卫  4/6层   朝阳区  通州北关  新建村小区  地铁：距6号线物资学院路站550米\n",
       "freq      41.0   551.0     7  3027   497  2045   223     59                 78"
      ]
     },
     "execution_count": 96,
     "metadata": {},
     "output_type": "execute_result"
    }
   ],
   "source": [
    "df.describe()"
   ]
  },
  {
   "cell_type": "code",
   "execution_count": 55,
   "id": "6aa4e14f",
   "metadata": {},
   "outputs": [
    {
     "data": {
      "text/plain": [
       "Index(['价格', '面积', '编号', '户型', '楼层', '位置1', '位置2', '小区', '地铁'], dtype='object')"
      ]
     },
     "execution_count": 55,
     "metadata": {},
     "output_type": "execute_result"
    }
   ],
   "source": [
    "df.columns"
   ]
  },
  {
   "cell_type": "code",
   "execution_count": 109,
   "id": "4bf027cf",
   "metadata": {
    "scrolled": false
   },
   "outputs": [
    {
     "ename": "ValueError",
     "evalue": "Unable to parse string \"价格\" at position 2207",
     "output_type": "error",
     "traceback": [
      "\u001b[1;31m---------------------------------------------------------------------------\u001b[0m",
      "\u001b[1;31mValueError\u001b[0m                                Traceback (most recent call last)",
      "\u001b[1;32mpandas\\_libs\\lib.pyx\u001b[0m in \u001b[0;36mpandas._libs.lib.maybe_convert_numeric\u001b[1;34m()\u001b[0m\n",
      "\u001b[1;31mValueError\u001b[0m: Unable to parse string \"价格\"",
      "\nDuring handling of the above exception, another exception occurred:\n",
      "\u001b[1;31mValueError\u001b[0m                                Traceback (most recent call last)",
      "\u001b[1;32m<ipython-input-109-fadf1c99c7ad>\u001b[0m in \u001b[0;36m<module>\u001b[1;34m\u001b[0m\n\u001b[1;32m----> 1\u001b[1;33m \u001b[0mdf\u001b[0m\u001b[1;33m.\u001b[0m\u001b[0m价格\u001b[0m \u001b[1;33m=\u001b[0m \u001b[0mpd\u001b[0m\u001b[1;33m.\u001b[0m\u001b[0mto_numeric\u001b[0m\u001b[1;33m(\u001b[0m\u001b[0mdf\u001b[0m\u001b[1;33m.\u001b[0m\u001b[0m价格\u001b[0m\u001b[1;33m)\u001b[0m\u001b[1;33m\u001b[0m\u001b[1;33m\u001b[0m\u001b[0m\n\u001b[0m",
      "\u001b[1;32mD:\\ProgramData\\Anaconda3\\lib\\site-packages\\pandas\\core\\tools\\numeric.py\u001b[0m in \u001b[0;36mto_numeric\u001b[1;34m(arg, errors, downcast)\u001b[0m\n\u001b[0;32m    152\u001b[0m         \u001b[0mcoerce_numeric\u001b[0m \u001b[1;33m=\u001b[0m \u001b[0merrors\u001b[0m \u001b[1;32mnot\u001b[0m \u001b[1;32min\u001b[0m \u001b[1;33m(\u001b[0m\u001b[1;34m\"ignore\"\u001b[0m\u001b[1;33m,\u001b[0m \u001b[1;34m\"raise\"\u001b[0m\u001b[1;33m)\u001b[0m\u001b[1;33m\u001b[0m\u001b[1;33m\u001b[0m\u001b[0m\n\u001b[0;32m    153\u001b[0m         \u001b[1;32mtry\u001b[0m\u001b[1;33m:\u001b[0m\u001b[1;33m\u001b[0m\u001b[1;33m\u001b[0m\u001b[0m\n\u001b[1;32m--> 154\u001b[1;33m             values = lib.maybe_convert_numeric(\n\u001b[0m\u001b[0;32m    155\u001b[0m                 \u001b[0mvalues\u001b[0m\u001b[1;33m,\u001b[0m \u001b[0mset\u001b[0m\u001b[1;33m(\u001b[0m\u001b[1;33m)\u001b[0m\u001b[1;33m,\u001b[0m \u001b[0mcoerce_numeric\u001b[0m\u001b[1;33m=\u001b[0m\u001b[0mcoerce_numeric\u001b[0m\u001b[1;33m\u001b[0m\u001b[1;33m\u001b[0m\u001b[0m\n\u001b[0;32m    156\u001b[0m             )\n",
      "\u001b[1;32mpandas\\_libs\\lib.pyx\u001b[0m in \u001b[0;36mpandas._libs.lib.maybe_convert_numeric\u001b[1;34m()\u001b[0m\n",
      "\u001b[1;31mValueError\u001b[0m: Unable to parse string \"价格\" at position 2207"
     ]
    }
   ],
   "source": [
    "df.价格 = pd.to_numeric(df.价格)"
   ]
  },
  {
   "cell_type": "code",
   "execution_count": 90,
   "id": "97417b2f",
   "metadata": {
    "scrolled": true
   },
   "outputs": [
    {
     "data": {
      "text/plain": [
       "array([2380.0, 2710.0, 2300.0, ..., nan, nan, nan], dtype=object)"
      ]
     },
     "execution_count": 90,
     "metadata": {},
     "output_type": "execute_result"
    }
   ],
   "source": [
    "df.价格.values"
   ]
  },
  {
   "cell_type": "code",
   "execution_count": 97,
   "id": "c09be785",
   "metadata": {
    "scrolled": true
   },
   "outputs": [
    {
     "ename": "TypeError",
     "evalue": "unsupported operand type(s) for +: 'float' and 'str'",
     "output_type": "error",
     "traceback": [
      "\u001b[1;31m---------------------------------------------------------------------------\u001b[0m",
      "\u001b[1;31mTypeError\u001b[0m                                 Traceback (most recent call last)",
      "\u001b[1;32m<ipython-input-97-89be024b6f04>\u001b[0m in \u001b[0;36m<module>\u001b[1;34m\u001b[0m\n\u001b[1;32m----> 1\u001b[1;33m \u001b[0msta\u001b[0m \u001b[1;33m=\u001b[0m \u001b[1;33m(\u001b[0m\u001b[0mdf\u001b[0m\u001b[1;33m.\u001b[0m\u001b[0m价格\u001b[0m\u001b[1;33m-\u001b[0m\u001b[0mdf\u001b[0m\u001b[1;33m.\u001b[0m\u001b[0m价格\u001b[0m\u001b[1;33m.\u001b[0m\u001b[0mmean\u001b[0m\u001b[1;33m(\u001b[0m\u001b[1;33m)\u001b[0m\u001b[1;33m)\u001b[0m\u001b[1;33m/\u001b[0m\u001b[0mdf\u001b[0m\u001b[1;33m.\u001b[0m\u001b[0m价格\u001b[0m\u001b[1;33m.\u001b[0m\u001b[0mstd\u001b[0m\u001b[1;33m(\u001b[0m\u001b[1;33m)\u001b[0m\u001b[1;33m\u001b[0m\u001b[1;33m\u001b[0m\u001b[0m\n\u001b[0m\u001b[0;32m      2\u001b[0m \u001b[0msta\u001b[0m\u001b[1;33m\u001b[0m\u001b[1;33m\u001b[0m\u001b[0m\n",
      "\u001b[1;32mD:\\ProgramData\\Anaconda3\\lib\\site-packages\\pandas\\core\\generic.py\u001b[0m in \u001b[0;36mmean\u001b[1;34m(self, axis, skipna, level, numeric_only, **kwargs)\u001b[0m\n\u001b[0;32m  11116\u001b[0m         )\n\u001b[0;32m  11117\u001b[0m         \u001b[1;32mdef\u001b[0m \u001b[0mmean\u001b[0m\u001b[1;33m(\u001b[0m\u001b[0mself\u001b[0m\u001b[1;33m,\u001b[0m \u001b[0maxis\u001b[0m\u001b[1;33m=\u001b[0m\u001b[1;32mNone\u001b[0m\u001b[1;33m,\u001b[0m \u001b[0mskipna\u001b[0m\u001b[1;33m=\u001b[0m\u001b[1;32mNone\u001b[0m\u001b[1;33m,\u001b[0m \u001b[0mlevel\u001b[0m\u001b[1;33m=\u001b[0m\u001b[1;32mNone\u001b[0m\u001b[1;33m,\u001b[0m \u001b[0mnumeric_only\u001b[0m\u001b[1;33m=\u001b[0m\u001b[1;32mNone\u001b[0m\u001b[1;33m,\u001b[0m \u001b[1;33m**\u001b[0m\u001b[0mkwargs\u001b[0m\u001b[1;33m)\u001b[0m\u001b[1;33m:\u001b[0m\u001b[1;33m\u001b[0m\u001b[1;33m\u001b[0m\u001b[0m\n\u001b[1;32m> 11118\u001b[1;33m             \u001b[1;32mreturn\u001b[0m \u001b[0mNDFrame\u001b[0m\u001b[1;33m.\u001b[0m\u001b[0mmean\u001b[0m\u001b[1;33m(\u001b[0m\u001b[0mself\u001b[0m\u001b[1;33m,\u001b[0m \u001b[0maxis\u001b[0m\u001b[1;33m,\u001b[0m \u001b[0mskipna\u001b[0m\u001b[1;33m,\u001b[0m \u001b[0mlevel\u001b[0m\u001b[1;33m,\u001b[0m \u001b[0mnumeric_only\u001b[0m\u001b[1;33m,\u001b[0m \u001b[1;33m**\u001b[0m\u001b[0mkwargs\u001b[0m\u001b[1;33m)\u001b[0m\u001b[1;33m\u001b[0m\u001b[1;33m\u001b[0m\u001b[0m\n\u001b[0m\u001b[0;32m  11119\u001b[0m \u001b[1;33m\u001b[0m\u001b[0m\n\u001b[0;32m  11120\u001b[0m         \u001b[1;31m# pandas\\core\\generic.py:10924: error: Cannot assign to a method\u001b[0m\u001b[1;33m\u001b[0m\u001b[1;33m\u001b[0m\u001b[1;33m\u001b[0m\u001b[0m\n",
      "\u001b[1;32mD:\\ProgramData\\Anaconda3\\lib\\site-packages\\pandas\\core\\generic.py\u001b[0m in \u001b[0;36mmean\u001b[1;34m(self, axis, skipna, level, numeric_only, **kwargs)\u001b[0m\n\u001b[0;32m  10724\u001b[0m \u001b[1;33m\u001b[0m\u001b[0m\n\u001b[0;32m  10725\u001b[0m     \u001b[1;32mdef\u001b[0m \u001b[0mmean\u001b[0m\u001b[1;33m(\u001b[0m\u001b[0mself\u001b[0m\u001b[1;33m,\u001b[0m \u001b[0maxis\u001b[0m\u001b[1;33m=\u001b[0m\u001b[1;32mNone\u001b[0m\u001b[1;33m,\u001b[0m \u001b[0mskipna\u001b[0m\u001b[1;33m=\u001b[0m\u001b[1;32mNone\u001b[0m\u001b[1;33m,\u001b[0m \u001b[0mlevel\u001b[0m\u001b[1;33m=\u001b[0m\u001b[1;32mNone\u001b[0m\u001b[1;33m,\u001b[0m \u001b[0mnumeric_only\u001b[0m\u001b[1;33m=\u001b[0m\u001b[1;32mNone\u001b[0m\u001b[1;33m,\u001b[0m \u001b[1;33m**\u001b[0m\u001b[0mkwargs\u001b[0m\u001b[1;33m)\u001b[0m\u001b[1;33m:\u001b[0m\u001b[1;33m\u001b[0m\u001b[1;33m\u001b[0m\u001b[0m\n\u001b[1;32m> 10726\u001b[1;33m         return self._stat_function(\n\u001b[0m\u001b[0;32m  10727\u001b[0m             \u001b[1;34m\"mean\"\u001b[0m\u001b[1;33m,\u001b[0m \u001b[0mnanops\u001b[0m\u001b[1;33m.\u001b[0m\u001b[0mnanmean\u001b[0m\u001b[1;33m,\u001b[0m \u001b[0maxis\u001b[0m\u001b[1;33m,\u001b[0m \u001b[0mskipna\u001b[0m\u001b[1;33m,\u001b[0m \u001b[0mlevel\u001b[0m\u001b[1;33m,\u001b[0m \u001b[0mnumeric_only\u001b[0m\u001b[1;33m,\u001b[0m \u001b[1;33m**\u001b[0m\u001b[0mkwargs\u001b[0m\u001b[1;33m\u001b[0m\u001b[1;33m\u001b[0m\u001b[0m\n\u001b[0;32m  10728\u001b[0m         )\n",
      "\u001b[1;32mD:\\ProgramData\\Anaconda3\\lib\\site-packages\\pandas\\core\\generic.py\u001b[0m in \u001b[0;36m_stat_function\u001b[1;34m(self, name, func, axis, skipna, level, numeric_only, **kwargs)\u001b[0m\n\u001b[0;32m  10709\u001b[0m         \u001b[1;32mif\u001b[0m \u001b[0mlevel\u001b[0m \u001b[1;32mis\u001b[0m \u001b[1;32mnot\u001b[0m \u001b[1;32mNone\u001b[0m\u001b[1;33m:\u001b[0m\u001b[1;33m\u001b[0m\u001b[1;33m\u001b[0m\u001b[0m\n\u001b[0;32m  10710\u001b[0m             \u001b[1;32mreturn\u001b[0m \u001b[0mself\u001b[0m\u001b[1;33m.\u001b[0m\u001b[0m_agg_by_level\u001b[0m\u001b[1;33m(\u001b[0m\u001b[0mname\u001b[0m\u001b[1;33m,\u001b[0m \u001b[0maxis\u001b[0m\u001b[1;33m=\u001b[0m\u001b[0maxis\u001b[0m\u001b[1;33m,\u001b[0m \u001b[0mlevel\u001b[0m\u001b[1;33m=\u001b[0m\u001b[0mlevel\u001b[0m\u001b[1;33m,\u001b[0m \u001b[0mskipna\u001b[0m\u001b[1;33m=\u001b[0m\u001b[0mskipna\u001b[0m\u001b[1;33m)\u001b[0m\u001b[1;33m\u001b[0m\u001b[1;33m\u001b[0m\u001b[0m\n\u001b[1;32m> 10711\u001b[1;33m         return self._reduce(\n\u001b[0m\u001b[0;32m  10712\u001b[0m             \u001b[0mfunc\u001b[0m\u001b[1;33m,\u001b[0m \u001b[0mname\u001b[0m\u001b[1;33m=\u001b[0m\u001b[0mname\u001b[0m\u001b[1;33m,\u001b[0m \u001b[0maxis\u001b[0m\u001b[1;33m=\u001b[0m\u001b[0maxis\u001b[0m\u001b[1;33m,\u001b[0m \u001b[0mskipna\u001b[0m\u001b[1;33m=\u001b[0m\u001b[0mskipna\u001b[0m\u001b[1;33m,\u001b[0m \u001b[0mnumeric_only\u001b[0m\u001b[1;33m=\u001b[0m\u001b[0mnumeric_only\u001b[0m\u001b[1;33m\u001b[0m\u001b[1;33m\u001b[0m\u001b[0m\n\u001b[0;32m  10713\u001b[0m         )\n",
      "\u001b[1;32mD:\\ProgramData\\Anaconda3\\lib\\site-packages\\pandas\\core\\series.py\u001b[0m in \u001b[0;36m_reduce\u001b[1;34m(self, op, name, axis, skipna, numeric_only, filter_type, **kwds)\u001b[0m\n\u001b[0;32m   4180\u001b[0m                 )\n\u001b[0;32m   4181\u001b[0m             \u001b[1;32mwith\u001b[0m \u001b[0mnp\u001b[0m\u001b[1;33m.\u001b[0m\u001b[0merrstate\u001b[0m\u001b[1;33m(\u001b[0m\u001b[0mall\u001b[0m\u001b[1;33m=\u001b[0m\u001b[1;34m\"ignore\"\u001b[0m\u001b[1;33m)\u001b[0m\u001b[1;33m:\u001b[0m\u001b[1;33m\u001b[0m\u001b[1;33m\u001b[0m\u001b[0m\n\u001b[1;32m-> 4182\u001b[1;33m                 \u001b[1;32mreturn\u001b[0m \u001b[0mop\u001b[0m\u001b[1;33m(\u001b[0m\u001b[0mdelegate\u001b[0m\u001b[1;33m,\u001b[0m \u001b[0mskipna\u001b[0m\u001b[1;33m=\u001b[0m\u001b[0mskipna\u001b[0m\u001b[1;33m,\u001b[0m \u001b[1;33m**\u001b[0m\u001b[0mkwds\u001b[0m\u001b[1;33m)\u001b[0m\u001b[1;33m\u001b[0m\u001b[1;33m\u001b[0m\u001b[0m\n\u001b[0m\u001b[0;32m   4183\u001b[0m \u001b[1;33m\u001b[0m\u001b[0m\n\u001b[0;32m   4184\u001b[0m     \u001b[1;32mdef\u001b[0m \u001b[0m_reindex_indexer\u001b[0m\u001b[1;33m(\u001b[0m\u001b[0mself\u001b[0m\u001b[1;33m,\u001b[0m \u001b[0mnew_index\u001b[0m\u001b[1;33m,\u001b[0m \u001b[0mindexer\u001b[0m\u001b[1;33m,\u001b[0m \u001b[0mcopy\u001b[0m\u001b[1;33m)\u001b[0m\u001b[1;33m:\u001b[0m\u001b[1;33m\u001b[0m\u001b[1;33m\u001b[0m\u001b[0m\n",
      "\u001b[1;32mD:\\ProgramData\\Anaconda3\\lib\\site-packages\\pandas\\core\\nanops.py\u001b[0m in \u001b[0;36m_f\u001b[1;34m(*args, **kwargs)\u001b[0m\n\u001b[0;32m     71\u001b[0m             \u001b[1;32mtry\u001b[0m\u001b[1;33m:\u001b[0m\u001b[1;33m\u001b[0m\u001b[1;33m\u001b[0m\u001b[0m\n\u001b[0;32m     72\u001b[0m                 \u001b[1;32mwith\u001b[0m \u001b[0mnp\u001b[0m\u001b[1;33m.\u001b[0m\u001b[0merrstate\u001b[0m\u001b[1;33m(\u001b[0m\u001b[0minvalid\u001b[0m\u001b[1;33m=\u001b[0m\u001b[1;34m\"ignore\"\u001b[0m\u001b[1;33m)\u001b[0m\u001b[1;33m:\u001b[0m\u001b[1;33m\u001b[0m\u001b[1;33m\u001b[0m\u001b[0m\n\u001b[1;32m---> 73\u001b[1;33m                     \u001b[1;32mreturn\u001b[0m \u001b[0mf\u001b[0m\u001b[1;33m(\u001b[0m\u001b[1;33m*\u001b[0m\u001b[0margs\u001b[0m\u001b[1;33m,\u001b[0m \u001b[1;33m**\u001b[0m\u001b[0mkwargs\u001b[0m\u001b[1;33m)\u001b[0m\u001b[1;33m\u001b[0m\u001b[1;33m\u001b[0m\u001b[0m\n\u001b[0m\u001b[0;32m     74\u001b[0m             \u001b[1;32mexcept\u001b[0m \u001b[0mValueError\u001b[0m \u001b[1;32mas\u001b[0m \u001b[0me\u001b[0m\u001b[1;33m:\u001b[0m\u001b[1;33m\u001b[0m\u001b[1;33m\u001b[0m\u001b[0m\n\u001b[0;32m     75\u001b[0m                 \u001b[1;31m# we want to transform an object array\u001b[0m\u001b[1;33m\u001b[0m\u001b[1;33m\u001b[0m\u001b[1;33m\u001b[0m\u001b[0m\n",
      "\u001b[1;32mD:\\ProgramData\\Anaconda3\\lib\\site-packages\\pandas\\core\\nanops.py\u001b[0m in \u001b[0;36mf\u001b[1;34m(values, axis, skipna, **kwds)\u001b[0m\n\u001b[0;32m    133\u001b[0m                     \u001b[0mresult\u001b[0m \u001b[1;33m=\u001b[0m \u001b[0malt\u001b[0m\u001b[1;33m(\u001b[0m\u001b[0mvalues\u001b[0m\u001b[1;33m,\u001b[0m \u001b[0maxis\u001b[0m\u001b[1;33m=\u001b[0m\u001b[0maxis\u001b[0m\u001b[1;33m,\u001b[0m \u001b[0mskipna\u001b[0m\u001b[1;33m=\u001b[0m\u001b[0mskipna\u001b[0m\u001b[1;33m,\u001b[0m \u001b[1;33m**\u001b[0m\u001b[0mkwds\u001b[0m\u001b[1;33m)\u001b[0m\u001b[1;33m\u001b[0m\u001b[1;33m\u001b[0m\u001b[0m\n\u001b[0;32m    134\u001b[0m             \u001b[1;32melse\u001b[0m\u001b[1;33m:\u001b[0m\u001b[1;33m\u001b[0m\u001b[1;33m\u001b[0m\u001b[0m\n\u001b[1;32m--> 135\u001b[1;33m                 \u001b[0mresult\u001b[0m \u001b[1;33m=\u001b[0m \u001b[0malt\u001b[0m\u001b[1;33m(\u001b[0m\u001b[0mvalues\u001b[0m\u001b[1;33m,\u001b[0m \u001b[0maxis\u001b[0m\u001b[1;33m=\u001b[0m\u001b[0maxis\u001b[0m\u001b[1;33m,\u001b[0m \u001b[0mskipna\u001b[0m\u001b[1;33m=\u001b[0m\u001b[0mskipna\u001b[0m\u001b[1;33m,\u001b[0m \u001b[1;33m**\u001b[0m\u001b[0mkwds\u001b[0m\u001b[1;33m)\u001b[0m\u001b[1;33m\u001b[0m\u001b[1;33m\u001b[0m\u001b[0m\n\u001b[0m\u001b[0;32m    136\u001b[0m \u001b[1;33m\u001b[0m\u001b[0m\n\u001b[0;32m    137\u001b[0m             \u001b[1;32mreturn\u001b[0m \u001b[0mresult\u001b[0m\u001b[1;33m\u001b[0m\u001b[1;33m\u001b[0m\u001b[0m\n",
      "\u001b[1;32mD:\\ProgramData\\Anaconda3\\lib\\site-packages\\pandas\\core\\nanops.py\u001b[0m in \u001b[0;36mnew_func\u001b[1;34m(values, axis, skipna, mask, **kwargs)\u001b[0m\n\u001b[0;32m    392\u001b[0m             \u001b[0mmask\u001b[0m \u001b[1;33m=\u001b[0m \u001b[0misna\u001b[0m\u001b[1;33m(\u001b[0m\u001b[0mvalues\u001b[0m\u001b[1;33m)\u001b[0m\u001b[1;33m\u001b[0m\u001b[1;33m\u001b[0m\u001b[0m\n\u001b[0;32m    393\u001b[0m \u001b[1;33m\u001b[0m\u001b[0m\n\u001b[1;32m--> 394\u001b[1;33m         \u001b[0mresult\u001b[0m \u001b[1;33m=\u001b[0m \u001b[0mfunc\u001b[0m\u001b[1;33m(\u001b[0m\u001b[0mvalues\u001b[0m\u001b[1;33m,\u001b[0m \u001b[0maxis\u001b[0m\u001b[1;33m=\u001b[0m\u001b[0maxis\u001b[0m\u001b[1;33m,\u001b[0m \u001b[0mskipna\u001b[0m\u001b[1;33m=\u001b[0m\u001b[0mskipna\u001b[0m\u001b[1;33m,\u001b[0m \u001b[0mmask\u001b[0m\u001b[1;33m=\u001b[0m\u001b[0mmask\u001b[0m\u001b[1;33m,\u001b[0m \u001b[1;33m**\u001b[0m\u001b[0mkwargs\u001b[0m\u001b[1;33m)\u001b[0m\u001b[1;33m\u001b[0m\u001b[1;33m\u001b[0m\u001b[0m\n\u001b[0m\u001b[0;32m    395\u001b[0m \u001b[1;33m\u001b[0m\u001b[0m\n\u001b[0;32m    396\u001b[0m         \u001b[1;32mif\u001b[0m \u001b[0mdatetimelike\u001b[0m\u001b[1;33m:\u001b[0m\u001b[1;33m\u001b[0m\u001b[1;33m\u001b[0m\u001b[0m\n",
      "\u001b[1;32mD:\\ProgramData\\Anaconda3\\lib\\site-packages\\pandas\\core\\nanops.py\u001b[0m in \u001b[0;36mnanmean\u001b[1;34m(values, axis, skipna, mask)\u001b[0m\n\u001b[0;32m    631\u001b[0m \u001b[1;33m\u001b[0m\u001b[0m\n\u001b[0;32m    632\u001b[0m     \u001b[0mcount\u001b[0m \u001b[1;33m=\u001b[0m \u001b[0m_get_counts\u001b[0m\u001b[1;33m(\u001b[0m\u001b[0mvalues\u001b[0m\u001b[1;33m.\u001b[0m\u001b[0mshape\u001b[0m\u001b[1;33m,\u001b[0m \u001b[0mmask\u001b[0m\u001b[1;33m,\u001b[0m \u001b[0maxis\u001b[0m\u001b[1;33m,\u001b[0m \u001b[0mdtype\u001b[0m\u001b[1;33m=\u001b[0m\u001b[0mdtype_count\u001b[0m\u001b[1;33m)\u001b[0m\u001b[1;33m\u001b[0m\u001b[1;33m\u001b[0m\u001b[0m\n\u001b[1;32m--> 633\u001b[1;33m     \u001b[0mthe_sum\u001b[0m \u001b[1;33m=\u001b[0m \u001b[0m_ensure_numeric\u001b[0m\u001b[1;33m(\u001b[0m\u001b[0mvalues\u001b[0m\u001b[1;33m.\u001b[0m\u001b[0msum\u001b[0m\u001b[1;33m(\u001b[0m\u001b[0maxis\u001b[0m\u001b[1;33m,\u001b[0m \u001b[0mdtype\u001b[0m\u001b[1;33m=\u001b[0m\u001b[0mdtype_sum\u001b[0m\u001b[1;33m)\u001b[0m\u001b[1;33m)\u001b[0m\u001b[1;33m\u001b[0m\u001b[1;33m\u001b[0m\u001b[0m\n\u001b[0m\u001b[0;32m    634\u001b[0m \u001b[1;33m\u001b[0m\u001b[0m\n\u001b[0;32m    635\u001b[0m     \u001b[1;32mif\u001b[0m \u001b[0maxis\u001b[0m \u001b[1;32mis\u001b[0m \u001b[1;32mnot\u001b[0m \u001b[1;32mNone\u001b[0m \u001b[1;32mand\u001b[0m \u001b[0mgetattr\u001b[0m\u001b[1;33m(\u001b[0m\u001b[0mthe_sum\u001b[0m\u001b[1;33m,\u001b[0m \u001b[1;34m\"ndim\"\u001b[0m\u001b[1;33m,\u001b[0m \u001b[1;32mFalse\u001b[0m\u001b[1;33m)\u001b[0m\u001b[1;33m:\u001b[0m\u001b[1;33m\u001b[0m\u001b[1;33m\u001b[0m\u001b[0m\n",
      "\u001b[1;32mD:\\ProgramData\\Anaconda3\\lib\\site-packages\\numpy\\core\\_methods.py\u001b[0m in \u001b[0;36m_sum\u001b[1;34m(a, axis, dtype, out, keepdims, initial, where)\u001b[0m\n\u001b[0;32m     45\u001b[0m def _sum(a, axis=None, dtype=None, out=None, keepdims=False,\n\u001b[0;32m     46\u001b[0m          initial=_NoValue, where=True):\n\u001b[1;32m---> 47\u001b[1;33m     \u001b[1;32mreturn\u001b[0m \u001b[0mumr_sum\u001b[0m\u001b[1;33m(\u001b[0m\u001b[0ma\u001b[0m\u001b[1;33m,\u001b[0m \u001b[0maxis\u001b[0m\u001b[1;33m,\u001b[0m \u001b[0mdtype\u001b[0m\u001b[1;33m,\u001b[0m \u001b[0mout\u001b[0m\u001b[1;33m,\u001b[0m \u001b[0mkeepdims\u001b[0m\u001b[1;33m,\u001b[0m \u001b[0minitial\u001b[0m\u001b[1;33m,\u001b[0m \u001b[0mwhere\u001b[0m\u001b[1;33m)\u001b[0m\u001b[1;33m\u001b[0m\u001b[1;33m\u001b[0m\u001b[0m\n\u001b[0m\u001b[0;32m     48\u001b[0m \u001b[1;33m\u001b[0m\u001b[0m\n\u001b[0;32m     49\u001b[0m def _prod(a, axis=None, dtype=None, out=None, keepdims=False,\n",
      "\u001b[1;31mTypeError\u001b[0m: unsupported operand type(s) for +: 'float' and 'str'"
     ]
    }
   ],
   "source": [
    "sta = (df.价格-df.价格.mean())/df.价格.std()\n",
    "sta"
   ]
  },
  {
   "cell_type": "code",
   "execution_count": 34,
   "id": "a655e85a",
   "metadata": {},
   "outputs": [],
   "source": [
    "drop_index = df[sta.abs()>3].index"
   ]
  },
  {
   "cell_type": "code",
   "execution_count": 35,
   "id": "c01690e6",
   "metadata": {},
   "outputs": [],
   "source": [
    "df.drop(index=drop_index,inplace=True)"
   ]
  },
  {
   "cell_type": "code",
   "execution_count": 37,
   "id": "37b06a77",
   "metadata": {},
   "outputs": [
    {
     "data": {
      "text/plain": [
       "0"
      ]
     },
     "execution_count": 37,
     "metadata": {},
     "output_type": "execute_result"
    }
   ],
   "source": [
    "df.duplicated().sum()"
   ]
  },
  {
   "cell_type": "code",
   "execution_count": 165,
   "id": "87ccf3c1",
   "metadata": {},
   "outputs": [
    {
     "name": "stdout",
     "output_type": "stream",
     "text": [
      "<class 'pandas.core.frame.DataFrame'>\n",
      "Int64Index: 6599 entries, 0 to 7689\n",
      "Data columns (total 11 columns):\n",
      " #   Column  Non-Null Count  Dtype \n",
      "---  ------  --------------  ----- \n",
      " 0   价格      6599 non-null   object\n",
      " 1   面积      6599 non-null   object\n",
      " 2   编号      6599 non-null   object\n",
      " 3   户型      6599 non-null   object\n",
      " 4   楼层      6599 non-null   object\n",
      " 5   位置1     6599 non-null   object\n",
      " 6   位置2     6599 non-null   object\n",
      " 7   小区      6599 non-null   object\n",
      " 8   地铁      6599 non-null   object\n",
      " 9   地铁线路    6560 non-null   object\n",
      " 10  地铁距离    6580 non-null   object\n",
      "dtypes: object(11)\n",
      "memory usage: 618.7+ KB\n"
     ]
    }
   ],
   "source": [
    "df.info()"
   ]
  },
  {
   "cell_type": "code",
   "execution_count": 166,
   "id": "c140cb71",
   "metadata": {},
   "outputs": [],
   "source": [
    "df.index = range(6599)"
   ]
  },
  {
   "cell_type": "code",
   "execution_count": 123,
   "id": "a98163d0",
   "metadata": {},
   "outputs": [
    {
     "data": {
      "text/html": [
       "<div>\n",
       "<style scoped>\n",
       "    .dataframe tbody tr th:only-of-type {\n",
       "        vertical-align: middle;\n",
       "    }\n",
       "\n",
       "    .dataframe tbody tr th {\n",
       "        vertical-align: top;\n",
       "    }\n",
       "\n",
       "    .dataframe thead th {\n",
       "        text-align: right;\n",
       "    }\n",
       "</style>\n",
       "<table border=\"1\" class=\"dataframe\">\n",
       "  <thead>\n",
       "    <tr style=\"text-align: right;\">\n",
       "      <th></th>\n",
       "      <th>0</th>\n",
       "      <th>1</th>\n",
       "      <th>2</th>\n",
       "      <th>3</th>\n",
       "      <th>4</th>\n",
       "    </tr>\n",
       "  </thead>\n",
       "  <tbody>\n",
       "    <tr>\n",
       "      <th>价格</th>\n",
       "      <td>2380.0</td>\n",
       "      <td>2710.0</td>\n",
       "      <td>2300.0</td>\n",
       "      <td>2980.0</td>\n",
       "      <td>2860.0</td>\n",
       "    </tr>\n",
       "    <tr>\n",
       "      <th>面积</th>\n",
       "      <td>11.0</td>\n",
       "      <td>9.0</td>\n",
       "      <td>13.0</td>\n",
       "      <td>5.0</td>\n",
       "      <td>16.0</td>\n",
       "    </tr>\n",
       "    <tr>\n",
       "      <th>编号</th>\n",
       "      <td>50952-D</td>\n",
       "      <td>20870-A</td>\n",
       "      <td>20039-A</td>\n",
       "      <td>66407-A</td>\n",
       "      <td>78687-A</td>\n",
       "    </tr>\n",
       "    <tr>\n",
       "      <th>户型</th>\n",
       "      <td>4室1卫</td>\n",
       "      <td>2室1卫</td>\n",
       "      <td>4室1卫</td>\n",
       "      <td>2室1卫</td>\n",
       "      <td>4室1卫</td>\n",
       "    </tr>\n",
       "    <tr>\n",
       "      <th>楼层</th>\n",
       "      <td>1/10层</td>\n",
       "      <td>21/28层</td>\n",
       "      <td>19/24层</td>\n",
       "      <td>12/24层</td>\n",
       "      <td>3/6层</td>\n",
       "    </tr>\n",
       "    <tr>\n",
       "      <th>位置1</th>\n",
       "      <td>丰台区</td>\n",
       "      <td>丰台区</td>\n",
       "      <td>丰台区</td>\n",
       "      <td>海淀区</td>\n",
       "      <td>东城区</td>\n",
       "    </tr>\n",
       "    <tr>\n",
       "      <th>位置2</th>\n",
       "      <td>公益西桥</td>\n",
       "      <td>西铁营</td>\n",
       "      <td>樊羊路</td>\n",
       "      <td>车道沟</td>\n",
       "      <td>陶然桥</td>\n",
       "    </tr>\n",
       "    <tr>\n",
       "      <th>小区</th>\n",
       "      <td>城南嘉园益嘉园</td>\n",
       "      <td>亚林西居住区</td>\n",
       "      <td>花香东苑</td>\n",
       "      <td>半壁街南路1号院</td>\n",
       "      <td>西罗园北路15号</td>\n",
       "    </tr>\n",
       "    <tr>\n",
       "      <th>地铁</th>\n",
       "      <td>地铁：距4号线大兴线公益西桥站500米</td>\n",
       "      <td>地铁：距14号线东段西铁营站450米</td>\n",
       "      <td>地铁：距房山线樊羊路站450米</td>\n",
       "      <td>地铁：距10号线车道沟站650米</td>\n",
       "      <td>地铁：距14号线东段陶然桥站600米</td>\n",
       "    </tr>\n",
       "    <tr>\n",
       "      <th>地铁线路</th>\n",
       "      <td>4号线</td>\n",
       "      <td>14号线</td>\n",
       "      <td>NaN</td>\n",
       "      <td>10号线</td>\n",
       "      <td>14号线</td>\n",
       "    </tr>\n",
       "    <tr>\n",
       "      <th>地铁距离</th>\n",
       "      <td>500米</td>\n",
       "      <td>450米</td>\n",
       "      <td>450米</td>\n",
       "      <td>650米</td>\n",
       "      <td>600米</td>\n",
       "    </tr>\n",
       "  </tbody>\n",
       "</table>\n",
       "</div>"
      ],
      "text/plain": [
       "                        0                   1                2  \\\n",
       "价格                 2380.0              2710.0           2300.0   \n",
       "面积                   11.0                 9.0             13.0   \n",
       "编号                50952-D             20870-A          20039-A   \n",
       "户型                   4室1卫                2室1卫             4室1卫   \n",
       "楼层                  1/10层              21/28层           19/24层   \n",
       "位置1                   丰台区                 丰台区              丰台区   \n",
       "位置2                  公益西桥                 西铁营              樊羊路   \n",
       "小区                城南嘉园益嘉园              亚林西居住区             花香东苑   \n",
       "地铁    地铁：距4号线大兴线公益西桥站500米  地铁：距14号线东段西铁营站450米  地铁：距房山线樊羊路站450米   \n",
       "地铁线路                  4号线                14号线              NaN   \n",
       "地铁距离                 500米                450米             450米   \n",
       "\n",
       "                     3                   4  \n",
       "价格              2980.0              2860.0  \n",
       "面积                 5.0                16.0  \n",
       "编号             66407-A             78687-A  \n",
       "户型                2室1卫                4室1卫  \n",
       "楼层              12/24层                3/6层  \n",
       "位置1                海淀区                 东城区  \n",
       "位置2                车道沟                 陶然桥  \n",
       "小区            半壁街南路1号院            西罗园北路15号  \n",
       "地铁    地铁：距10号线车道沟站650米  地铁：距14号线东段陶然桥站600米  \n",
       "地铁线路              10号线                14号线  \n",
       "地铁距离              650米                600米  "
      ]
     },
     "execution_count": 123,
     "metadata": {},
     "output_type": "execute_result"
    }
   ],
   "source": [
    "df.head(5).T"
   ]
  },
  {
   "cell_type": "code",
   "execution_count": 160,
   "id": "13f085bd",
   "metadata": {},
   "outputs": [],
   "source": [
    "df['地铁线路']=df.地铁.str.extract('(\\d{1,2}号线|[\\u4e00-\\u9fa5]{2}线)',expand=True)"
   ]
  },
  {
   "cell_type": "code",
   "execution_count": 118,
   "id": "0783a107",
   "metadata": {},
   "outputs": [],
   "source": [
    "df['地铁距离']=df.地铁.str.extract('(\\d+米)',expand=True)"
   ]
  },
  {
   "cell_type": "code",
   "execution_count": 214,
   "id": "fdf3c292",
   "metadata": {},
   "outputs": [
    {
     "data": {
      "text/plain": [
       "价格       价格\n",
       "面积       面积\n",
       "编号       编号\n",
       "户型       户型\n",
       "楼层       楼层\n",
       "位置1     位置1\n",
       "位置2     位置2\n",
       "小区       小区\n",
       "地铁         \n",
       "地铁线路    NaN\n",
       "地铁距离    NaN\n",
       "Name: 2207, dtype: object"
      ]
     },
     "execution_count": 214,
     "metadata": {},
     "output_type": "execute_result"
    }
   ],
   "source": [
    "df.iloc[2198]\n",
    "df.drop(index=2198)\n",
    "df.iloc[2198]"
   ]
  },
  {
   "cell_type": "code",
   "execution_count": 205,
   "id": "ace7039a",
   "metadata": {},
   "outputs": [
    {
     "data": {
      "text/plain": [
       "Int64Index([ 115,  207, 1776, 2092, 2174, 2207, 2304, 2389, 2803, 2875, 3203,\n",
       "            3486, 3528, 3903, 3983, 3986, 3987, 4393, 4837, 4838, 4841, 5871,\n",
       "            5985, 6045, 6085, 6141, 6225, 6503],\n",
       "           dtype='int64')"
      ]
     },
     "execution_count": 205,
     "metadata": {},
     "output_type": "execute_result"
    }
   ],
   "source": [
    "df[df['地铁线路'].isnull()].index"
   ]
  },
  {
   "cell_type": "code",
   "execution_count": 192,
   "id": "ebb08430",
   "metadata": {},
   "outputs": [
    {
     "data": {
      "text/plain": [
       "28"
      ]
     },
     "execution_count": 192,
     "metadata": {},
     "output_type": "execute_result"
    }
   ],
   "source": [
    "df.地铁线路.isnull().sum()"
   ]
  },
  {
   "cell_type": "code",
   "execution_count": null,
   "id": "b4a5b984",
   "metadata": {},
   "outputs": [],
   "source": []
  },
  {
   "cell_type": "code",
   "execution_count": 181,
   "id": "6d365c1a",
   "metadata": {},
   "outputs": [
    {
     "data": {
      "text/plain": [
       "[]"
      ]
     },
     "execution_count": 181,
     "metadata": {},
     "output_type": "execute_result"
    }
   ],
   "source": [
    "subway = [i for i,j in enumerate(df.地铁.values) if j =='地铁：']\n",
    "subway"
   ]
  },
  {
   "cell_type": "code",
   "execution_count": 180,
   "id": "f1d82230",
   "metadata": {},
   "outputs": [],
   "source": [
    "\n",
    "df.drop(index=subway,inplace=True)"
   ]
  },
  {
   "cell_type": "code",
   "execution_count": 199,
   "id": "9bc929c5",
   "metadata": {},
   "outputs": [],
   "source": [
    "sub_info =  [i[3:] for i in df.地铁.values]\n",
    "df.地铁=sub_info"
   ]
  },
  {
   "cell_type": "code",
   "execution_count": 203,
   "id": "5dc07f12",
   "metadata": {},
   "outputs": [
    {
     "data": {
      "text/plain": [
       "[]"
      ]
     },
     "execution_count": 203,
     "metadata": {},
     "output_type": "execute_result"
    }
   ],
   "source": [
    "price = [i for i,j in enumerate(df.地铁.values) if j =='价格']\n",
    "price"
   ]
  },
  {
   "cell_type": "code",
   "execution_count": 200,
   "id": "8124e074",
   "metadata": {},
   "outputs": [
    {
     "data": {
      "text/html": [
       "<div>\n",
       "<style scoped>\n",
       "    .dataframe tbody tr th:only-of-type {\n",
       "        vertical-align: middle;\n",
       "    }\n",
       "\n",
       "    .dataframe tbody tr th {\n",
       "        vertical-align: top;\n",
       "    }\n",
       "\n",
       "    .dataframe thead th {\n",
       "        text-align: right;\n",
       "    }\n",
       "</style>\n",
       "<table border=\"1\" class=\"dataframe\">\n",
       "  <thead>\n",
       "    <tr style=\"text-align: right;\">\n",
       "      <th></th>\n",
       "      <th>价格</th>\n",
       "      <th>面积</th>\n",
       "      <th>编号</th>\n",
       "      <th>户型</th>\n",
       "      <th>楼层</th>\n",
       "      <th>位置1</th>\n",
       "      <th>位置2</th>\n",
       "      <th>小区</th>\n",
       "      <th>地铁</th>\n",
       "      <th>地铁线路</th>\n",
       "      <th>地铁距离</th>\n",
       "    </tr>\n",
       "  </thead>\n",
       "  <tbody>\n",
       "    <tr>\n",
       "      <th>0</th>\n",
       "      <td>2380.0</td>\n",
       "      <td>11.0</td>\n",
       "      <td>50952-D</td>\n",
       "      <td>4室1卫</td>\n",
       "      <td>1/10层</td>\n",
       "      <td>丰台区</td>\n",
       "      <td>公益西桥</td>\n",
       "      <td>城南嘉园益嘉园</td>\n",
       "      <td>距4号线大兴线公益西桥站500米</td>\n",
       "      <td>4号线</td>\n",
       "      <td>500米</td>\n",
       "    </tr>\n",
       "    <tr>\n",
       "      <th>1</th>\n",
       "      <td>2710.0</td>\n",
       "      <td>9.0</td>\n",
       "      <td>20870-A</td>\n",
       "      <td>2室1卫</td>\n",
       "      <td>21/28层</td>\n",
       "      <td>丰台区</td>\n",
       "      <td>西铁营</td>\n",
       "      <td>亚林西居住区</td>\n",
       "      <td>距14号线东段西铁营站450米</td>\n",
       "      <td>14号线</td>\n",
       "      <td>450米</td>\n",
       "    </tr>\n",
       "    <tr>\n",
       "      <th>2</th>\n",
       "      <td>2300.0</td>\n",
       "      <td>13.0</td>\n",
       "      <td>20039-A</td>\n",
       "      <td>4室1卫</td>\n",
       "      <td>19/24层</td>\n",
       "      <td>丰台区</td>\n",
       "      <td>樊羊路</td>\n",
       "      <td>花香东苑</td>\n",
       "      <td>距房山线樊羊路站450米</td>\n",
       "      <td>房山线</td>\n",
       "      <td>450米</td>\n",
       "    </tr>\n",
       "    <tr>\n",
       "      <th>3</th>\n",
       "      <td>2980.0</td>\n",
       "      <td>5.0</td>\n",
       "      <td>66407-A</td>\n",
       "      <td>2室1卫</td>\n",
       "      <td>12/24层</td>\n",
       "      <td>海淀区</td>\n",
       "      <td>车道沟</td>\n",
       "      <td>半壁街南路1号院</td>\n",
       "      <td>距10号线车道沟站650米</td>\n",
       "      <td>10号线</td>\n",
       "      <td>650米</td>\n",
       "    </tr>\n",
       "    <tr>\n",
       "      <th>4</th>\n",
       "      <td>2860.0</td>\n",
       "      <td>16.0</td>\n",
       "      <td>78687-A</td>\n",
       "      <td>4室1卫</td>\n",
       "      <td>3/6层</td>\n",
       "      <td>东城区</td>\n",
       "      <td>陶然桥</td>\n",
       "      <td>西罗园北路15号</td>\n",
       "      <td>距14号线东段陶然桥站600米</td>\n",
       "      <td>14号线</td>\n",
       "      <td>600米</td>\n",
       "    </tr>\n",
       "    <tr>\n",
       "      <th>...</th>\n",
       "      <td>...</td>\n",
       "      <td>...</td>\n",
       "      <td>...</td>\n",
       "      <td>...</td>\n",
       "      <td>...</td>\n",
       "      <td>...</td>\n",
       "      <td>...</td>\n",
       "      <td>...</td>\n",
       "      <td>...</td>\n",
       "      <td>...</td>\n",
       "      <td>...</td>\n",
       "    </tr>\n",
       "    <tr>\n",
       "      <th>6594</th>\n",
       "      <td>2580</td>\n",
       "      <td>14</td>\n",
       "      <td>14820-A</td>\n",
       "      <td>4室2卫</td>\n",
       "      <td>21/28层</td>\n",
       "      <td>丰台区</td>\n",
       "      <td>科怡路</td>\n",
       "      <td>宝隆温泉公寓</td>\n",
       "      <td>距9号线科怡路站250米</td>\n",
       "      <td>9号线</td>\n",
       "      <td>250米</td>\n",
       "    </tr>\n",
       "    <tr>\n",
       "      <th>6595</th>\n",
       "      <td>1910</td>\n",
       "      <td>9</td>\n",
       "      <td>14938-C</td>\n",
       "      <td>4室1卫</td>\n",
       "      <td>4/8层</td>\n",
       "      <td>朝阳区</td>\n",
       "      <td>双桥</td>\n",
       "      <td>东柳西里</td>\n",
       "      <td>距八通线双桥站900米</td>\n",
       "      <td>八通线</td>\n",
       "      <td>900米</td>\n",
       "    </tr>\n",
       "    <tr>\n",
       "      <th>6596</th>\n",
       "      <td>3480</td>\n",
       "      <td>17</td>\n",
       "      <td>15596-A</td>\n",
       "      <td>3室1卫</td>\n",
       "      <td>3/6层</td>\n",
       "      <td>朝阳区</td>\n",
       "      <td>金台路</td>\n",
       "      <td>红庙北里</td>\n",
       "      <td>距6号线,14号线东段金台路站450米</td>\n",
       "      <td>6号线</td>\n",
       "      <td>450米</td>\n",
       "    </tr>\n",
       "    <tr>\n",
       "      <th>6597</th>\n",
       "      <td>2440</td>\n",
       "      <td>9</td>\n",
       "      <td>17527-E</td>\n",
       "      <td>5室1卫</td>\n",
       "      <td>8/22层</td>\n",
       "      <td>丰台区</td>\n",
       "      <td>角门东</td>\n",
       "      <td>金胜嘉谊家园</td>\n",
       "      <td>距10号线角门东站700米</td>\n",
       "      <td>10号线</td>\n",
       "      <td>700米</td>\n",
       "    </tr>\n",
       "    <tr>\n",
       "      <th>6598</th>\n",
       "      <td>2470</td>\n",
       "      <td>13</td>\n",
       "      <td>2089-C</td>\n",
       "      <td>3室1卫</td>\n",
       "      <td>10/17层</td>\n",
       "      <td>丰台区</td>\n",
       "      <td>新宫</td>\n",
       "      <td>德鑫嘉园三期</td>\n",
       "      <td>距4号线大兴线,19号线新宫站850米</td>\n",
       "      <td>4号线</td>\n",
       "      <td>850米</td>\n",
       "    </tr>\n",
       "  </tbody>\n",
       "</table>\n",
       "<p>6588 rows × 11 columns</p>\n",
       "</div>"
      ],
      "text/plain": [
       "          价格    面积       编号    户型      楼层  位置1   位置2        小区  \\\n",
       "0     2380.0  11.0  50952-D  4室1卫   1/10层  丰台区  公益西桥   城南嘉园益嘉园   \n",
       "1     2710.0   9.0  20870-A  2室1卫  21/28层  丰台区   西铁营    亚林西居住区   \n",
       "2     2300.0  13.0  20039-A  4室1卫  19/24层  丰台区   樊羊路      花香东苑   \n",
       "3     2980.0   5.0  66407-A  2室1卫  12/24层  海淀区   车道沟  半壁街南路1号院   \n",
       "4     2860.0  16.0  78687-A  4室1卫    3/6层  东城区   陶然桥  西罗园北路15号   \n",
       "...      ...   ...      ...   ...     ...  ...   ...       ...   \n",
       "6594    2580    14  14820-A  4室2卫  21/28层  丰台区   科怡路    宝隆温泉公寓   \n",
       "6595    1910     9  14938-C  4室1卫    4/8层  朝阳区    双桥      东柳西里   \n",
       "6596    3480    17  15596-A  3室1卫    3/6层  朝阳区   金台路      红庙北里   \n",
       "6597    2440     9  17527-E  5室1卫   8/22层  丰台区   角门东    金胜嘉谊家园   \n",
       "6598    2470    13   2089-C  3室1卫  10/17层  丰台区    新宫    德鑫嘉园三期   \n",
       "\n",
       "                       地铁  地铁线路  地铁距离  \n",
       "0        距4号线大兴线公益西桥站500米   4号线  500米  \n",
       "1         距14号线东段西铁营站450米  14号线  450米  \n",
       "2            距房山线樊羊路站450米   房山线  450米  \n",
       "3           距10号线车道沟站650米  10号线  650米  \n",
       "4         距14号线东段陶然桥站600米  14号线  600米  \n",
       "...                   ...   ...   ...  \n",
       "6594         距9号线科怡路站250米   9号线  250米  \n",
       "6595          距八通线双桥站900米   八通线  900米  \n",
       "6596  距6号线,14号线东段金台路站450米   6号线  450米  \n",
       "6597        距10号线角门东站700米  10号线  700米  \n",
       "6598  距4号线大兴线,19号线新宫站850米   4号线  850米  \n",
       "\n",
       "[6588 rows x 11 columns]"
      ]
     },
     "execution_count": 200,
     "metadata": {},
     "output_type": "execute_result"
    }
   ],
   "source": [
    "df"
   ]
  },
  {
   "cell_type": "code",
   "execution_count": 201,
   "id": "6ab91ab4",
   "metadata": {},
   "outputs": [],
   "source": [
    "df.to_csv(r'D:\\360Downloads\\数据处理练习数据\\合集.csv',encoding='utf-8')"
   ]
  }
 ],
 "metadata": {
  "kernelspec": {
   "display_name": "Python 3",
   "language": "python",
   "name": "python3"
  },
  "language_info": {
   "codemirror_mode": {
    "name": "ipython",
    "version": 3
   },
   "file_extension": ".py",
   "mimetype": "text/x-python",
   "name": "python",
   "nbconvert_exporter": "python",
   "pygments_lexer": "ipython3",
   "version": "3.8.8"
  }
 },
 "nbformat": 4,
 "nbformat_minor": 5
}
