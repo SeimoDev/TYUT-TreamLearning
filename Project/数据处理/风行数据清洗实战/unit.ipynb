{
 "cells": [
  {
   "cell_type": "code",
   "execution_count": 6,
   "id": "3e9197d2",
   "metadata": {},
   "outputs": [],
   "source": [
    "import pandas as pd\n",
    "import os"
   ]
  },
  {
   "cell_type": "code",
   "execution_count": null,
   "id": "a35bcdc3",
   "metadata": {},
   "outputs": [],
   "source": [
    "path = r\"D:\\360Downloads\\风行数据中心实战\\数据集\\国通514家45955\"\n",
    "files = os.listdir(path)\n",
    "files\n",
    "df1 = pd.read_excel(path+'\\\\'+files[0])\n",
    "\n",
    "for file in files:\n",
    "    df2 = pd.read_excel(path+\"\\\\\"+file)\n",
    "    df1 = pd.concat([df1,df2],axis=0,ignore_index=True)\n",
    "df1 = df1.drop_duplicates()   #去重\n",
    "df1 = df1.reset_index(drop=True) #重新生成index\n",
    "\n",
    "df1.to_excel(r'total1.xlsx') #将结果保存为新的csv文件  \n",
    "df1.head()"
   ]
  }
 ],
 "metadata": {
  "kernelspec": {
   "display_name": "Python 3",
   "language": "python",
   "name": "python3"
  },
  "language_info": {
   "codemirror_mode": {
    "name": "ipython",
    "version": 3
   },
   "file_extension": ".py",
   "mimetype": "text/x-python",
   "name": "python",
   "nbconvert_exporter": "python",
   "pygments_lexer": "ipython3",
   "version": "3.8.8"
  }
 },
 "nbformat": 4,
 "nbformat_minor": 5
}
